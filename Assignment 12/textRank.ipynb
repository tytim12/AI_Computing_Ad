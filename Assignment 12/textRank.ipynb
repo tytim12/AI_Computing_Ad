{
 "cells": [
  {
   "cell_type": "code",
   "execution_count": 1,
   "metadata": {},
   "outputs": [],
   "source": [
    "#-*- encoding:utf-8 -*-\n",
    "from textrank4zh import TextRank4Keyword, TextRank4Sentence\n",
    "import jieba"
   ]
  },
  {
   "cell_type": "code",
   "execution_count": 14,
   "metadata": {},
   "outputs": [
    {
     "name": "stdout",
     "output_type": "stream",
     "text": [
      "今天，武汉市教育局发出《关于延迟2020年春季开学时间有关工作的通知》，延迟全市中小学、市属大中专院校2020年春季开学时间。\n",
      "具体开学时间将视武汉市新冠肺炎疫情发展和防控情况，请示上级同意后另行通知。\n",
      "2月10日前，各单位严格按照要求，做好假期各项工作。\n",
      "2月10日开始，各区教育局组织辖区中小学、中职学校，按照教学计划安排，开展在线课程教学（方案另发）。\n",
      "正式开学前，严禁市属各级各类学校组织各类线下课程教学、培训和集体活动。\n",
      "各区教育局要指导辖区中小学、幼儿园，合理制定学生学习计划和生活指南，指导学生安排好居家学习和生活；要关注学生心理健康，建立离校学生情况日报制度，定期向学生了解相关情况，通过电话、网络等各种方式做好学生的个性化辅导。\n"
     ]
    }
   ],
   "source": [
    "with open('news.txt') as file:\n",
    "    text = file.read()\n",
    "print(text)"
   ]
  },
  {
   "cell_type": "code",
   "execution_count": 15,
   "metadata": {},
   "outputs": [],
   "source": [
    "# 输出关键词，设置文本小写，窗口为3\n",
    "tr4w = TextRank4Keyword()\n",
    "tr4w.analyze(text=text, lower=True, window=3)"
   ]
  },
  {
   "cell_type": "code",
   "execution_count": 16,
   "metadata": {},
   "outputs": [
    {
     "data": {
      "text/plain": [
       "<textrank4zh.TextRank4Keyword.TextRank4Keyword at 0x25221567f48>"
      ]
     },
     "execution_count": 16,
     "metadata": {},
     "output_type": "execute_result"
    }
   ],
   "source": [
    "tr4w"
   ]
  },
  {
   "cell_type": "code",
   "execution_count": 17,
   "metadata": {},
   "outputs": [
    {
     "name": "stdout",
     "output_type": "stream",
     "text": [
      "关键词：\n",
      "Keyword 学生 \t weight is 0.06094147783167887\n",
      "Keyword 情况 \t weight is 0.03322053493089593\n",
      "Keyword 中小学 \t weight is 0.032725665441405545\n",
      "Keyword 教学 \t weight is 0.023397301538669237\n",
      "Keyword 教育局 \t weight is 0.02190823215813645\n",
      "Keyword 做好 \t weight is 0.02093989243160494\n",
      "Keyword 武汉市 \t weight is 0.02052552460004262\n",
      "Keyword 指导 \t weight is 0.020403659215736274\n",
      "Keyword 延迟 \t weight is 0.019289766539730153\n",
      "Keyword 课程 \t weight is 0.018998299826258294\n"
     ]
    }
   ],
   "source": [
    "# 获取前20个长度大于2的item\n",
    "print('关键词：')\n",
    "for item in tr4w.get_keywords(10, word_min_len=2):\n",
    "    print(f'Keyword {item.word} \\t weight is {item.weight}')"
   ]
  },
  {
   "cell_type": "code",
   "execution_count": 18,
   "metadata": {},
   "outputs": [
    {
     "name": "stdout",
     "output_type": "stream",
     "text": [
      "index=0, \t weight=0.16736862381514578, \t sentence: 今天，武汉市教育局发出《关于延迟2020年春季开学时间有关工作的通知》，延迟全市中小学、市属大中专院校2020年春季开学时间\n",
      "index=3, \t weight=0.16121904336116283, \t sentence: 2月10日开始，各区教育局组织辖区中小学、中职学校，按照教学计划安排，开展在线课程教学（方案另发）\n",
      "index=6, \t weight=0.14645271233055304, \t sentence: 要关注学生心理健康，建立离校学生情况日报制度，定期向学生了解相关情况，通过电话、网络等各种方式做好学生的个性化辅导\n"
     ]
    }
   ],
   "source": [
    "# 重要句子\n",
    "tr4s = TextRank4Sentence()\n",
    "tr4s.analyze(text=text, lower=True, source='all_filters')\n",
    "for item in tr4s.get_key_sentences(num=3):\n",
    "    print(f'index={item.index}, \\t weight={item.weight}, \\t sentence: {item.sentence}')"
   ]
  },
  {
   "cell_type": "code",
   "execution_count": null,
   "metadata": {},
   "outputs": [],
   "source": []
  }
 ],
 "metadata": {
  "kernelspec": {
   "display_name": "Python 3",
   "language": "python",
   "name": "python3"
  },
  "language_info": {
   "codemirror_mode": {
    "name": "ipython",
    "version": 3
   },
   "file_extension": ".py",
   "mimetype": "text/x-python",
   "name": "python",
   "nbconvert_exporter": "python",
   "pygments_lexer": "ipython3",
   "version": "3.7.4"
  }
 },
 "nbformat": 4,
 "nbformat_minor": 4
}
