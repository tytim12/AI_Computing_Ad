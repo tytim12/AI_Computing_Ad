{
 "cells": [
  {
   "cell_type": "code",
   "execution_count": 1,
   "metadata": {},
   "outputs": [],
   "source": [
    "# 使用networkX计算节点的pagerank\n",
    "import networkx as nx\n",
    "import matplotlib.pyplot as plt"
   ]
  },
  {
   "cell_type": "markdown",
   "metadata": {},
   "source": [
    "简化版模型"
   ]
  },
  {
   "cell_type": "markdown",
   "metadata": {},
   "source": [
    "有向图如下\n",
    "\n",
    "\\begin{bmatrix} \n",
    "\\infty & 1 & 1 & 1\\\\ \n",
    "1 & \\infty & \\infty & 1\\\\\n",
    "1 & \\infty & \\infty & \\infty \\\\\n",
    "\\infty & 1 & 1 & \\infty\n",
    "\\end{bmatrix}"
   ]
  },
  {
   "cell_type": "code",
   "execution_count": 2,
   "metadata": {},
   "outputs": [],
   "source": [
    "# 创建有向图\n",
    "G = nx.DiGraph()\n",
    "\n",
    "# 设置有向图的边集合\n",
    "edges = [(\"A\", \"B\"), (\"A\", \"C\"), (\"A\", \"D\"), (\"B\", \"A\"), (\"B\", \"D\"), (\"C\", \"A\"), (\"D\", \"B\"), (\"D\", \"C\")]"
   ]
  },
  {
   "cell_type": "code",
   "execution_count": 4,
   "metadata": {},
   "outputs": [],
   "source": [
    "# 在有向图G中添加边集合\n",
    "for edge in edges:\n",
    "    G.add_edge(edge[0], edge[1])"
   ]
  },
  {
   "cell_type": "code",
   "execution_count": 5,
   "metadata": {},
   "outputs": [
    {
     "name": "stderr",
     "output_type": "stream",
     "text": [
      "C:\\ProgramData\\Anaconda3\\lib\\site-packages\\networkx\\drawing\\nx_pylab.py:579: MatplotlibDeprecationWarning: \n",
      "The iterable function was deprecated in Matplotlib 3.1 and will be removed in 3.3. Use np.iterable instead.\n",
      "  if not cb.iterable(width):\n",
      "C:\\ProgramData\\Anaconda3\\lib\\site-packages\\networkx\\drawing\\nx_pylab.py:676: MatplotlibDeprecationWarning: \n",
      "The iterable function was deprecated in Matplotlib 3.1 and will be removed in 3.3. Use np.iterable instead.\n",
      "  if cb.iterable(node_size):  # many node sizes\n"
     ]
    },
    {
     "data": {
      "image/png": "[encoded data removed]",
      "text/plain": [
       "<Figure size 432x288 with 1 Axes>"
      ]
     },
     "metadata": {},
     "output_type": "display_data"
    }
   ],
   "source": [
    "# 有向图可视化\n",
    "layout = nx.spring_layout(G)\n",
    "nx.draw(G, pos=layout, with_labels=True, hold=False)\n",
    "plt.show()"
   ]
  },
  {
   "cell_type": "code",
   "execution_count": 6,
   "metadata": {},
   "outputs": [
    {
     "name": "stdout",
     "output_type": "stream",
     "text": [
      "简化模型的PR值： {'A': 0.33333396911621094, 'B': 0.22222201029459634, 'C': 0.22222201029459634, 'D': 0.22222201029459634}\n",
      "随机模型的PR值： {'A': 0.3214290507775999, 'B': 0.22619031640746662, 'C': 0.22619031640746662, 'D': 0.22619031640746662}\n"
     ]
    }
   ],
   "source": [
    "# 计算简化模型的PR值\n",
    "pr = nx.pagerank(G, alpha=1)\n",
    "print(\"简化模型的PR值：\", pr)\n",
    "\n",
    "# 计算随机模型的PR值\n",
    "pr = nx.pagerank(G, alpha=0.8)\n",
    "print(\"随机模型的PR值：\", pr)"
   ]
  },
  {
   "cell_type": "code",
   "execution_count": null,
   "metadata": {},
   "outputs": [],
   "source": []
  },
  {
   "cell_type": "code",
   "execution_count": null,
   "metadata": {},
   "outputs": [],
   "source": []
  },
  {
   "cell_type": "markdown",
   "metadata": {},
   "source": [
    "随机游走"
   ]
  },
  {
   "cell_type": "code",
   "execution_count": 11,
   "metadata": {},
   "outputs": [],
   "source": [
    "import numpy as np\n",
    "\n",
    "# 定义3个转移矩阵，a正常，a_leak有权重泄露，a_sink是权重沉没\n",
    "a = np.array([[0, 1/2, 1, 0], \n",
    "              [1/3, 0, 0, 1/2],\n",
    "              [1/3, 0, 0, 1/2],\n",
    "              [1/3, 1/2, 0, 0]])\n",
    "\n",
    "a_leak = np.array([[0, 0, 0, 1/2], \n",
    "                   [0, 0, 0, 1/2],\n",
    "                   [0, 1, 0, 0],\n",
    "                   [0, 0, 1, 0]])\n",
    "\n",
    "a_sink = np.array([[0, 0, 0, 0], \n",
    "                   [1/2, 0, 0, 1],\n",
    "                   [0, 1, 1, 0],\n",
    "                   [1/2, 0, 0, 0]])\n",
    "\n",
    "# 初始权重\n",
    "b = np.array([1/4, 1/4, 1/4, 1/4])\n",
    "w = b\n",
    "\n",
    "def work(a, w):\n",
    "    for i in range(100):\n",
    "        w = np.dot(a, w)\n",
    "        print(f'Round {i}:\\t {w}')\n",
    "\n",
    "def random_work(a, w, n):\n",
    "    d = 0.85\n",
    "    for i in range(100):\n",
    "        w = (1-d)/n + d*np.dot(a, w)\n",
    "        print(f'Round {i}:\\t {w}')"
   ]
  },
  {
   "cell_type": "code",
   "execution_count": 13,
   "metadata": {},
   "outputs": [
    {
     "name": "stdout",
     "output_type": "stream",
     "text": [
      "Round 0:\t [0.14375 0.14375 0.25    0.25   ]\n",
      "Round 1:\t [0.14375   0.14375   0.1596875 0.25     ]\n",
      "Round 2:\t [0.14375    0.14375    0.1596875  0.17323437]\n",
      "Round 3:\t [0.11112461 0.11112461 0.1596875  0.17323437]\n",
      "Round 4:\t [0.11112461 0.11112461 0.13195592 0.17323437]\n",
      "Round 5:\t [0.11112461 0.11112461 0.13195592 0.14966253]\n",
      "Round 6:\t [0.10110658 0.10110658 0.13195592 0.14966253]\n",
      "Round 7:\t [0.10110658 0.10110658 0.12344059 0.14966253]\n",
      "Round 8:\t [0.10110658 0.10110658 0.12344059 0.1424245 ]\n",
      "Round 9:\t [0.09803041 0.09803041 0.12344059 0.1424245 ]\n",
      "Round 10:\t [0.09803041 0.09803041 0.12082585 0.1424245 ]\n",
      "Round 11:\t [0.09803041 0.09803041 0.12082585 0.14020197]\n",
      "Round 12:\t [0.09708584 0.09708584 0.12082585 0.14020197]\n",
      "Round 13:\t [0.09708584 0.09708584 0.12002296 0.14020197]\n",
      "Round 14:\t [0.09708584 0.09708584 0.12002296 0.13951952]\n",
      "Round 15:\t [0.0967958  0.0967958  0.12002296 0.13951952]\n",
      "Round 16:\t [0.0967958  0.0967958  0.11977643 0.13951952]\n",
      "Round 17:\t [0.0967958  0.0967958  0.11977643 0.13930996]\n",
      "Round 18:\t [0.09670673 0.09670673 0.11977643 0.13930996]\n",
      "Round 19:\t [0.09670673 0.09670673 0.11970072 0.13930996]\n",
      "Round 20:\t [0.09670673 0.09670673 0.11970072 0.13924562]\n",
      "Round 21:\t [0.09667939 0.09667939 0.11970072 0.13924562]\n",
      "Round 22:\t [0.09667939 0.09667939 0.11967748 0.13924562]\n",
      "Round 23:\t [0.09667939 0.09667939 0.11967748 0.13922586]\n",
      "Round 24:\t [0.09667099 0.09667099 0.11967748 0.13922586]\n",
      "Round 25:\t [0.09667099 0.09667099 0.11967034 0.13922586]\n",
      "Round 26:\t [0.09667099 0.09667099 0.11967034 0.13921979]\n",
      "Round 27:\t [0.09666841 0.09666841 0.11967034 0.13921979]\n",
      "Round 28:\t [0.09666841 0.09666841 0.11966815 0.13921979]\n",
      "Round 29:\t [0.09666841 0.09666841 0.11966815 0.13921793]\n",
      "Round 30:\t [0.09666762 0.09666762 0.11966815 0.13921793]\n",
      "Round 31:\t [0.09666762 0.09666762 0.11966748 0.13921793]\n",
      "Round 32:\t [0.09666762 0.09666762 0.11966748 0.13921735]\n",
      "Round 33:\t [0.09666738 0.09666738 0.11966748 0.13921735]\n",
      "Round 34:\t [0.09666738 0.09666738 0.11966727 0.13921735]\n",
      "Round 35:\t [0.09666738 0.09666738 0.11966727 0.13921718]\n",
      "Round 36:\t [0.0966673  0.0966673  0.11966727 0.13921718]\n",
      "Round 37:\t [0.0966673  0.0966673  0.11966721 0.13921718]\n",
      "Round 38:\t [0.0966673  0.0966673  0.11966721 0.13921713]\n",
      "Round 39:\t [0.09666728 0.09666728 0.11966721 0.13921713]\n",
      "Round 40:\t [0.09666728 0.09666728 0.11966719 0.13921713]\n",
      "Round 41:\t [0.09666728 0.09666728 0.11966719 0.13921711]\n",
      "Round 42:\t [0.09666727 0.09666727 0.11966719 0.13921711]\n",
      "Round 43:\t [0.09666727 0.09666727 0.11966718 0.13921711]\n",
      "Round 44:\t [0.09666727 0.09666727 0.11966718 0.1392171 ]\n",
      "Round 45:\t [0.09666727 0.09666727 0.11966718 0.1392171 ]\n",
      "Round 46:\t [0.09666727 0.09666727 0.11966718 0.1392171 ]\n",
      "Round 47:\t [0.09666727 0.09666727 0.11966718 0.1392171 ]\n",
      "Round 48:\t [0.09666727 0.09666727 0.11966718 0.1392171 ]\n",
      "Round 49:\t [0.09666727 0.09666727 0.11966718 0.1392171 ]\n",
      "Round 50:\t [0.09666727 0.09666727 0.11966718 0.1392171 ]\n",
      "Round 51:\t [0.09666727 0.09666727 0.11966718 0.1392171 ]\n",
      "Round 52:\t [0.09666727 0.09666727 0.11966718 0.1392171 ]\n",
      "Round 53:\t [0.09666727 0.09666727 0.11966718 0.1392171 ]\n",
      "Round 54:\t [0.09666727 0.09666727 0.11966718 0.1392171 ]\n",
      "Round 55:\t [0.09666727 0.09666727 0.11966718 0.1392171 ]\n",
      "Round 56:\t [0.09666727 0.09666727 0.11966718 0.1392171 ]\n",
      "Round 57:\t [0.09666727 0.09666727 0.11966718 0.1392171 ]\n",
      "Round 58:\t [0.09666727 0.09666727 0.11966718 0.1392171 ]\n",
      "Round 59:\t [0.09666727 0.09666727 0.11966718 0.1392171 ]\n",
      "Round 60:\t [0.09666727 0.09666727 0.11966718 0.1392171 ]\n",
      "Round 61:\t [0.09666727 0.09666727 0.11966718 0.1392171 ]\n",
      "Round 62:\t [0.09666727 0.09666727 0.11966718 0.1392171 ]\n",
      "Round 63:\t [0.09666727 0.09666727 0.11966718 0.1392171 ]\n",
      "Round 64:\t [0.09666727 0.09666727 0.11966718 0.1392171 ]\n",
      "Round 65:\t [0.09666727 0.09666727 0.11966718 0.1392171 ]\n",
      "Round 66:\t [0.09666727 0.09666727 0.11966718 0.1392171 ]\n",
      "Round 67:\t [0.09666727 0.09666727 0.11966718 0.1392171 ]\n",
      "Round 68:\t [0.09666727 0.09666727 0.11966718 0.1392171 ]\n",
      "Round 69:\t [0.09666727 0.09666727 0.11966718 0.1392171 ]\n",
      "Round 70:\t [0.09666727 0.09666727 0.11966718 0.1392171 ]\n",
      "Round 71:\t [0.09666727 0.09666727 0.11966718 0.1392171 ]\n",
      "Round 72:\t [0.09666727 0.09666727 0.11966718 0.1392171 ]\n",
      "Round 73:\t [0.09666727 0.09666727 0.11966718 0.1392171 ]\n",
      "Round 74:\t [0.09666727 0.09666727 0.11966718 0.1392171 ]\n",
      "Round 75:\t [0.09666727 0.09666727 0.11966718 0.1392171 ]\n",
      "Round 76:\t [0.09666727 0.09666727 0.11966718 0.1392171 ]\n",
      "Round 77:\t [0.09666727 0.09666727 0.11966718 0.1392171 ]\n",
      "Round 78:\t [0.09666727 0.09666727 0.11966718 0.1392171 ]\n",
      "Round 79:\t [0.09666727 0.09666727 0.11966718 0.1392171 ]\n",
      "Round 80:\t [0.09666727 0.09666727 0.11966718 0.1392171 ]\n",
      "Round 81:\t [0.09666727 0.09666727 0.11966718 0.1392171 ]\n",
      "Round 82:\t [0.09666727 0.09666727 0.11966718 0.1392171 ]\n",
      "Round 83:\t [0.09666727 0.09666727 0.11966718 0.1392171 ]\n",
      "Round 84:\t [0.09666727 0.09666727 0.11966718 0.1392171 ]\n",
      "Round 85:\t [0.09666727 0.09666727 0.11966718 0.1392171 ]\n",
      "Round 86:\t [0.09666727 0.09666727 0.11966718 0.1392171 ]\n",
      "Round 87:\t [0.09666727 0.09666727 0.11966718 0.1392171 ]\n",
      "Round 88:\t [0.09666727 0.09666727 0.11966718 0.1392171 ]\n",
      "Round 89:\t [0.09666727 0.09666727 0.11966718 0.1392171 ]\n",
      "Round 90:\t [0.09666727 0.09666727 0.11966718 0.1392171 ]\n",
      "Round 91:\t [0.09666727 0.09666727 0.11966718 0.1392171 ]\n",
      "Round 92:\t [0.09666727 0.09666727 0.11966718 0.1392171 ]\n",
      "Round 93:\t [0.09666727 0.09666727 0.11966718 0.1392171 ]\n",
      "Round 94:\t [0.09666727 0.09666727 0.11966718 0.1392171 ]\n",
      "Round 95:\t [0.09666727 0.09666727 0.11966718 0.1392171 ]\n",
      "Round 96:\t [0.09666727 0.09666727 0.11966718 0.1392171 ]\n",
      "Round 97:\t [0.09666727 0.09666727 0.11966718 0.1392171 ]\n",
      "Round 98:\t [0.09666727 0.09666727 0.11966718 0.1392171 ]\n",
      "Round 99:\t [0.09666727 0.09666727 0.11966718 0.1392171 ]\n"
     ]
    }
   ],
   "source": [
    "#work(a, w)\n",
    "#random_work(a, w, 4)\n",
    "random_work(a_leak, w, 4)\n",
    "#random_work(a_sink, w, 4)"
   ]
  }
 ],
 "metadata": {
  "kernelspec": {
   "display_name": "Python 3",
   "language": "python",
   "name": "python3"
  },
  "language_info": {
   "codemirror_mode": {
    "name": "ipython",
    "version": 3
   },
   "file_extension": ".py",
   "mimetype": "text/x-python",
   "name": "python",
   "nbconvert_exporter": "python",
   "pygments_lexer": "ipython3",
   "version": "3.7.4"
  }
 },
 "nbformat": 4,
 "nbformat_minor": 4
}
