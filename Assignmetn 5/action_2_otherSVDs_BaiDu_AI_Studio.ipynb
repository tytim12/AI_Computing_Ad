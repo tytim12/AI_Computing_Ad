{
 "cells": [
  {
   "cell_type": "code",
   "execution_count": null,
   "metadata": {
    "collapsed": false
   },
   "outputs": [],
   "source": [
    "# 查看当前挂载的数据集目录, 该目录下的变更重启环境后会自动还原\n",
    "# View dataset directory. This directory will be recovered automatically after resetting environment. \n",
    "!ls /home/aistudio/data"
   ]
  },
  {
   "cell_type": "code",
   "execution_count": null,
   "metadata": {
    "collapsed": false
   },
   "outputs": [],
   "source": [
    "# 查看工作区文件, 该目录下的变更将会持久保存. 请及时清理不必要的文件, 避免加载过慢.\n",
    "# View personal work directory. All changes under this directory will be kept even after reset. Please clean unnecessary files in time to speed up environment loading.\n",
    "!ls /home/aistudio/work"
   ]
  },
  {
   "cell_type": "code",
   "execution_count": null,
   "metadata": {
    "collapsed": false
   },
   "outputs": [
    {
     "name": "stdout",
     "output_type": "stream",
     "text": [
      "Looking in indexes: https://pypi.mirrors.ustc.edu.cn/simple/\n",
      "Collecting surprise\n",
      "  Downloading https://mirrors.tuna.tsinghua.edu.cn/pypi/web/packages/61/de/e5cba8682201fcf9c3719a6fdda95693468ed061945493dea2dd37c5618b/surprise-0.1-py2.py3-none-any.whl\n",
      "Collecting scikit-surprise (from surprise)\n",
      "\u001b[?25l  Downloading https://mirrors.tuna.tsinghua.edu.cn/pypi/web/packages/f5/da/b5700d96495fb4f092be497f02492768a3d96a3f4fa2ae7dea46d4081cfa/scikit-surprise-1.1.0.tar.gz (6.4MB)\n",
      "\u001b[K     |████████████████████████████████| 6.5MB 55kB/s eta 0:00:011\n",
      "\u001b[?25hCollecting joblib>=0.11 (from scikit-surprise->surprise)\n",
      "\u001b[33m  WARNING: Retrying (Retry(total=4, connect=None, read=None, redirect=None, status=None)) after connection broken by 'ReadTimeoutError(\"HTTPSConnectionPool(host='mirrors.ustc.edu.cn', port=443): Read timed out. (read timeout=15)\")': /pypi/web/simple/joblib/\u001b[0m\n",
      "\u001b[?25l  Downloading https://mirrors.tuna.tsinghua.edu.cn/pypi/web/packages/28/5c/cf6a2b65a321c4a209efcdf64c2689efae2cb62661f8f6f4bb28547cf1bf/joblib-0.14.1-py2.py3-none-any.whl (294kB)\n",
      "\u001b[K     |████████████████████████████████| 296kB 55.6MB/s eta 0:00:01\n",
      "\u001b[?25hRequirement already satisfied: numpy>=1.11.2 in /opt/conda/envs/python35-paddle120-env/lib/python3.7/site-packages (from scikit-surprise->surprise) (1.16.4)\n",
      "Requirement already satisfied: scipy>=1.0.0 in /opt/conda/envs/python35-paddle120-env/lib/python3.7/site-packages (from scikit-surprise->surprise) (1.3.0)\n",
      "Requirement already satisfied: six>=1.10.0 in /opt/conda/envs/python35-paddle120-env/lib/python3.7/site-packages (from scikit-surprise->surprise) (1.12.0)\n",
      "Building wheels for collected packages: scikit-surprise\n",
      "  Building wheel for scikit-surprise (setup.py) ... \u001b[?25ldone\n",
      "\u001b[?25h  Created wheel for scikit-surprise: filename=scikit_surprise-1.1.0-cp37-cp37m-linux_x86_64.whl size=1708029 sha256=0285dadac61f75d44844846a64b1b2b02148effb89d437ad77733aaa4bf19cd4\n",
      "  Stored in directory: /home/aistudio/.cache/pip/wheels/b6/4f/e5/76b1296589466ff055f1e5b2d1fad86c6b33dc279553104896\n",
      "Successfully built scikit-surprise\n",
      "Installing collected packages: joblib, scikit-surprise, surprise\n",
      "Successfully installed joblib-0.14.1 scikit-surprise-1.1.0 surprise-0.1\n"
     ]
    }
   ],
   "source": [
    "!pip install surprise"
   ]
  },
  {
   "cell_type": "markdown",
   "metadata": {
    "collapsed": false
   },
   "source": [
    "### **作业说明：由于colab上不去，改用百度AI studio来做**  \n",
    "为了快点收敛学习率设置为0.1,没想到svd++的速度如此慢..."
   ]
  },
  {
   "cell_type": "code",
   "execution_count": 5,
   "metadata": {
    "collapsed": false
   },
   "outputs": [
    {
     "name": "stdout",
     "output_type": "stream",
     "text": [
      "以下为 LFM 即 Funk SVD的结果： \n",
      "RMSE: 1.1861\n",
      "RMSE: 1.1731\n",
      "RMSE: 1.1798\n",
      "以下为 Biased SVD的结果： \n",
      "RMSE: 0.9543\n",
      "RMSE: 0.9562\n",
      "RMSE: 0.9557\n",
      "以下为 SVD++ 的结果： \n",
      "RMSE: 0.9383\n",
      "RMSE: 0.9394\n",
      "RMSE: 0.9429\n",
      "user: 196        item: 592        r_ui = 4.00   est = 2.88   {'was_impossible': False}\n",
      "user: 196        item: 592        r_ui = 4.00   est = 3.73   {'was_impossible': False}\n",
      "user: 196        item: 592        r_ui = 4.00   est = 3.49   {'was_impossible': False}\n"
     ]
    }
   ],
   "source": [
    "from surprise import Dataset\r\n",
    "from surprise import Reader\r\n",
    "from surprise import BaselineOnly, KNNBasic, NormalPredictor\r\n",
    "from surprise import accuracy\r\n",
    "from surprise.model_selection import KFold, split\r\n",
    "from surprise import SVD, SVDpp\r\n",
    "\r\n",
    "\r\n",
    "# 读取数据\r\n",
    "reader = Reader(line_format='user item rating timestamp', sep=',', skip_lines=1)\r\n",
    "data = Dataset.load_from_file('ratings.csv', reader=reader)\r\n",
    "train_set = data.build_full_trainset()\r\n",
    "\r\n",
    "# 定义3个算法\r\n",
    "# surprise 的svd应该就是 biased svd, 设置为false后为funk svd\r\n",
    "# 跑 svd++ 的速度太慢，学习率调整为0.1\r\n",
    "algo_LFM = SVD(biased=False, n_epochs=5, lr_all=0.1)  \r\n",
    "algo_biased = SVD(n_epochs=5, lr_all=0.1)\r\n",
    "algo_pp = SVDpp(n_epochs=5, lr_all=0.1)\r\n",
    "\r\n",
    "\r\n",
    "# 跑模型\r\n",
    "print(\"以下为 LFM 即 Funk SVD的结果： \")\r\n",
    "kf = KFold(n_splits=3)\r\n",
    "for trainset, testset in kf.split(data):\r\n",
    "    algo_LFM.fit(trainset)\r\n",
    "    predictions = algo_LFM.test(testset)\r\n",
    "    accuracy.rmse(predictions, verbose=True)\r\n",
    "\r\n",
    "print(\"以下为 Biased SVD的结果： \")\r\n",
    "kf = KFold(n_splits=3)\r\n",
    "for trainset, testset in kf.split(data):\r\n",
    "    algo_biased.fit(trainset)\r\n",
    "    predictions = algo_biased.test(testset)\r\n",
    "    accuracy.rmse(predictions, verbose=True)\r\n",
    "    \r\n",
    "print(\"以下为 SVD++ 的结果： \")\r\n",
    "kf = KFold(n_splits=3)\r\n",
    "for trainset, testset in kf.split(data):\r\n",
    "    algo_pp.fit(trainset)\r\n",
    "    predictions = algo_pp.test(testset)\r\n",
    "    accuracy.rmse(predictions, verbose=True)\r\n",
    "\r\n",
    "# 预测\r\n",
    "uid = str(196)\r\n",
    "iid = str(592)\r\n",
    "pred = algo_LFM.predict(uid, iid, r_ui=4, verbose=True)\r\n",
    "pred = algo_biased.predict(uid, iid, r_ui=4, verbose=True)\r\n",
    "pred = algo_pp.predict(uid, iid, r_ui=4, verbose=True)"
   ]
  },
  {
   "cell_type": "markdown",
   "metadata": {
    "collapsed": false
   },
   "source": [
    "请点击[此处](https://ai.baidu.com/docs#/AIStudio_Project_Notebook/a38e5576)查看本环境基本用法.  <br>\n",
    "Please click [here ](https://ai.baidu.com/docs#/AIStudio_Project_Notebook/a38e5576) for more detailed instructions. "
   ]
  }
 ],
 "metadata": {
  "kernelspec": {
   "display_name": "PaddlePaddle 1.6.2 (Python 3.5)",
   "language": "python",
   "name": "py35-paddle1.2.0"
  },
  "language_info": {
   "codemirror_mode": {
    "name": "ipython",
    "version": 3
   },
   "file_extension": ".py",
   "mimetype": "text/x-python",
   "name": "python",
   "nbconvert_exporter": "python",
   "pygments_lexer": "ipython3",
   "version": "3.7.4"
  }
 },
 "nbformat": 4,
 "nbformat_minor": 1
}
