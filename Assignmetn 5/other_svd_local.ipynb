{
 "cells": [
  {
   "cell_type": "markdown",
   "metadata": {},
   "source": [
    "#### 通过surprise实现FunkSVD，BiasSVD，SVD++\n",
    "#### 该版本为本地电脑跑的结果"
   ]
  },
  {
   "cell_type": "code",
   "execution_count": 1,
   "metadata": {},
   "outputs": [],
   "source": [
    "from surprise import Dataset\n",
    "from surprise import Reader\n",
    "from surprise import BaselineOnly, KNNBasic, NormalPredictor\n",
    "from surprise import accuracy\n",
    "from surprise.model_selection import KFold, split\n",
    "from surprise import SVD, SVDpp\n",
    "\n",
    "\n",
    "# 读取数据\n",
    "reader = Reader(line_format='user item rating timestamp', sep=',', skip_lines=1)\n",
    "data = Dataset.load_from_file('./ratings.csv', reader=reader)\n",
    "train_set = data.build_full_trainset()"
   ]
  },
  {
   "cell_type": "code",
   "execution_count": 3,
   "metadata": {},
   "outputs": [
    {
     "name": "stdout",
     "output_type": "stream",
     "text": [
      "以下为 LFM 即 Funk SVD的结果： \n",
      "RMSE: 1.0098\n",
      "RMSE: 1.0044\n",
      "RMSE: 1.0058\n",
      "以下为 Biased SVD的结果： \n",
      "RMSE: 0.8772\n",
      "RMSE: 0.8774\n",
      "RMSE: 0.8764\n",
      "以下为 SVD++ 的结果： \n",
      "RMSE: 0.8580\n",
      "RMSE: 0.8576\n",
      "RMSE: 0.8566\n"
     ]
    }
   ],
   "source": [
    "# 定义3个算法\n",
    "# surprise 的svd应该就是 biased svd, 设置为false后为funk svd\n",
    "algo_LFM = SVD(biased=False, n_epochs=5)  \n",
    "algo_biased = SVD(n_epochs=5)\n",
    "algo_pp = SVDpp(n_epochs=5)\n",
    "\n",
    "\n",
    "\n",
    "print(\"以下为 LFM 即 Funk SVD的结果： \")\n",
    "kf = KFold(n_splits=3)\n",
    "for trainset, testset in kf.split(data):\n",
    "    algo_LFM.fit(trainset)\n",
    "    predictions = algo_LFM.test(testset)\n",
    "    accuracy.rmse(predictions, verbose=True)\n",
    "\n",
    "print(\"以下为 Biased SVD的结果： \")\n",
    "kf = KFold(n_splits=3)\n",
    "for trainset, testset in kf.split(data):\n",
    "    algo_biased.fit(trainset)\n",
    "    predictions = algo_biased.test(testset)\n",
    "    accuracy.rmse(predictions, verbose=True)\n",
    "    \n",
    "print(\"以下为 SVD++ 的结果： \")\n",
    "kf = KFold(n_splits=3)\n",
    "for trainset, testset in kf.split(data):\n",
    "    algo_pp.fit(trainset)\n",
    "    predictions = algo_pp.test(testset)\n",
    "    accuracy.rmse(predictions, verbose=True)"
   ]
  },
  {
   "cell_type": "code",
   "execution_count": 4,
   "metadata": {},
   "outputs": [
    {
     "name": "stdout",
     "output_type": "stream",
     "text": [
      "user: 196        item: 592        r_ui = 4.00   est = 4.13   {'was_impossible': False}\n",
      "user: 196        item: 592        r_ui = 4.00   est = 3.72   {'was_impossible': False}\n",
      "user: 196        item: 592        r_ui = 4.00   est = 3.68   {'was_impossible': False}\n"
     ]
    }
   ],
   "source": [
    "# 预测\n",
    "uid = str(196)\n",
    "iid = str(592)\n",
    "pred = algo_LFM.predict(uid, iid, r_ui=4, verbose=True)\n",
    "pred = algo_biased.predict(uid, iid, r_ui=4, verbose=True)\n",
    "pred = algo_pp.predict(uid, iid, r_ui=4, verbose=True)"
   ]
  }
 ],
 "metadata": {
  "kernelspec": {
   "display_name": "Python 3",
   "language": "python",
   "name": "python3"
  },
  "language_info": {
   "codemirror_mode": {
    "name": "ipython",
    "version": 3
   },
   "file_extension": ".py",
   "mimetype": "text/x-python",
   "name": "python",
   "nbconvert_exporter": "python",
   "pygments_lexer": "ipython3",
   "version": "3.7.4"
  }
 },
 "nbformat": 4,
 "nbformat_minor": 4
}
