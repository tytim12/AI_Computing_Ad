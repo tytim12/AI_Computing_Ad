{
 "cells": [
  {
   "cell_type": "code",
   "execution_count": 2,
   "metadata": {},
   "outputs": [
    {
     "name": "stderr",
     "output_type": "stream",
     "text": [
      "WARNING:root:\n",
      "DeepCTR version 0.7.5 detected. Your version is 0.7.4.\n",
      "Use `pip install -U deepctr` to upgrade.Changelog: https://github.com/shenweichen/DeepCTR/releases/tag/v0.7.5\n"
     ]
    }
   ],
   "source": [
    "import pandas as pd\n",
    "import numpy as np\n",
    "from sklearn.metrics import log_loss\n",
    "import matplotlib.pyplot as plt \n",
    "from sklearn.preprocessing import LabelEncoder\n",
    "from sklearn.metrics import mean_squared_error\n",
    "from sklearn.model_selection import train_test_split\n",
    "from deepctr.models import xDeepFM\n",
    "from deepctr.inputs import SparseFeat,get_feature_names\n"
   ]
  },
  {
   "cell_type": "code",
   "execution_count": 3,
   "metadata": {},
   "outputs": [
    {
     "name": "stdout",
     "output_type": "stream",
     "text": [
      "data loaded\n"
     ]
    }
   ],
   "source": [
    "##==================== 设置文件路径File-Path (fp) ====================##\n",
    "file_path = ''\n",
    "fp_train_f = file_path + \"train_sample.csv\" #使用小样本进行训练\n",
    "\n",
    "##==================== xDeepFM 训练 ====================##\n",
    "data = pd.read_csv(fp_train_f, dtype={'id':str}, index_col=None)\n",
    "print('data loaded')\n",
    "\n",
    "#数据加载\n",
    "sparse_features = ['C1', 'banner_pos', 'site_domain', 'site_id','site_category','app_id','app_category', 'device_type', 'device_conn_type','C14', 'C15','C16']\n",
    "target = ['click']"
   ]
  },
  {
   "cell_type": "code",
   "execution_count": 7,
   "metadata": {},
   "outputs": [
    {
     "data": {
      "text/html": [
       "<div>\n",
       "<style scoped>\n",
       "    .dataframe tbody tr th:only-of-type {\n",
       "        vertical-align: middle;\n",
       "    }\n",
       "\n",
       "    .dataframe tbody tr th {\n",
       "        vertical-align: top;\n",
       "    }\n",
       "\n",
       "    .dataframe thead th {\n",
       "        text-align: right;\n",
       "    }\n",
       "</style>\n",
       "<table border=\"1\" class=\"dataframe\">\n",
       "  <thead>\n",
       "    <tr style=\"text-align: right;\">\n",
       "      <th></th>\n",
       "      <th>id</th>\n",
       "      <th>click</th>\n",
       "      <th>hour</th>\n",
       "      <th>C1</th>\n",
       "      <th>banner_pos</th>\n",
       "      <th>site_id</th>\n",
       "      <th>site_domain</th>\n",
       "      <th>site_category</th>\n",
       "      <th>app_id</th>\n",
       "      <th>app_domain</th>\n",
       "      <th>...</th>\n",
       "      <th>device_type</th>\n",
       "      <th>device_conn_type</th>\n",
       "      <th>C14</th>\n",
       "      <th>C15</th>\n",
       "      <th>C16</th>\n",
       "      <th>C17</th>\n",
       "      <th>C18</th>\n",
       "      <th>C19</th>\n",
       "      <th>C20</th>\n",
       "      <th>C21</th>\n",
       "    </tr>\n",
       "  </thead>\n",
       "  <tbody>\n",
       "    <tr>\n",
       "      <td>0</td>\n",
       "      <td>1000009418151094273</td>\n",
       "      <td>0</td>\n",
       "      <td>14102100</td>\n",
       "      <td>2</td>\n",
       "      <td>0</td>\n",
       "      <td>43</td>\n",
       "      <td>301</td>\n",
       "      <td>2</td>\n",
       "      <td>293</td>\n",
       "      <td>7801e8d9</td>\n",
       "      <td>...</td>\n",
       "      <td>1</td>\n",
       "      <td>1</td>\n",
       "      <td>67</td>\n",
       "      <td>2</td>\n",
       "      <td>1</td>\n",
       "      <td>1722</td>\n",
       "      <td>0</td>\n",
       "      <td>35</td>\n",
       "      <td>-1</td>\n",
       "      <td>79</td>\n",
       "    </tr>\n",
       "    <tr>\n",
       "      <td>1</td>\n",
       "      <td>10000169349117863715</td>\n",
       "      <td>0</td>\n",
       "      <td>14102100</td>\n",
       "      <td>2</td>\n",
       "      <td>0</td>\n",
       "      <td>43</td>\n",
       "      <td>301</td>\n",
       "      <td>2</td>\n",
       "      <td>293</td>\n",
       "      <td>7801e8d9</td>\n",
       "      <td>...</td>\n",
       "      <td>1</td>\n",
       "      <td>0</td>\n",
       "      <td>65</td>\n",
       "      <td>2</td>\n",
       "      <td>1</td>\n",
       "      <td>1722</td>\n",
       "      <td>0</td>\n",
       "      <td>35</td>\n",
       "      <td>100084</td>\n",
       "      <td>79</td>\n",
       "    </tr>\n",
       "    <tr>\n",
       "      <td>2</td>\n",
       "      <td>10000371904215119486</td>\n",
       "      <td>0</td>\n",
       "      <td>14102100</td>\n",
       "      <td>2</td>\n",
       "      <td>0</td>\n",
       "      <td>43</td>\n",
       "      <td>301</td>\n",
       "      <td>2</td>\n",
       "      <td>293</td>\n",
       "      <td>7801e8d9</td>\n",
       "      <td>...</td>\n",
       "      <td>1</td>\n",
       "      <td>0</td>\n",
       "      <td>65</td>\n",
       "      <td>2</td>\n",
       "      <td>1</td>\n",
       "      <td>1722</td>\n",
       "      <td>0</td>\n",
       "      <td>35</td>\n",
       "      <td>100084</td>\n",
       "      <td>79</td>\n",
       "    </tr>\n",
       "    <tr>\n",
       "      <td>3</td>\n",
       "      <td>10000640724480838376</td>\n",
       "      <td>0</td>\n",
       "      <td>14102100</td>\n",
       "      <td>2</td>\n",
       "      <td>0</td>\n",
       "      <td>43</td>\n",
       "      <td>301</td>\n",
       "      <td>2</td>\n",
       "      <td>293</td>\n",
       "      <td>7801e8d9</td>\n",
       "      <td>...</td>\n",
       "      <td>1</td>\n",
       "      <td>0</td>\n",
       "      <td>67</td>\n",
       "      <td>2</td>\n",
       "      <td>1</td>\n",
       "      <td>1722</td>\n",
       "      <td>0</td>\n",
       "      <td>35</td>\n",
       "      <td>100084</td>\n",
       "      <td>79</td>\n",
       "    </tr>\n",
       "    <tr>\n",
       "      <td>4</td>\n",
       "      <td>10000679056417042096</td>\n",
       "      <td>0</td>\n",
       "      <td>14102100</td>\n",
       "      <td>2</td>\n",
       "      <td>1</td>\n",
       "      <td>374</td>\n",
       "      <td>169</td>\n",
       "      <td>0</td>\n",
       "      <td>293</td>\n",
       "      <td>7801e8d9</td>\n",
       "      <td>...</td>\n",
       "      <td>1</td>\n",
       "      <td>0</td>\n",
       "      <td>135</td>\n",
       "      <td>2</td>\n",
       "      <td>1</td>\n",
       "      <td>2161</td>\n",
       "      <td>0</td>\n",
       "      <td>35</td>\n",
       "      <td>-1</td>\n",
       "      <td>157</td>\n",
       "    </tr>\n",
       "  </tbody>\n",
       "</table>\n",
       "<p>5 rows × 24 columns</p>\n",
       "</div>"
      ],
      "text/plain": [
       "                     id  click      hour  C1  banner_pos  site_id  \\\n",
       "0   1000009418151094273      0  14102100   2           0       43   \n",
       "1  10000169349117863715      0  14102100   2           0       43   \n",
       "2  10000371904215119486      0  14102100   2           0       43   \n",
       "3  10000640724480838376      0  14102100   2           0       43   \n",
       "4  10000679056417042096      0  14102100   2           1      374   \n",
       "\n",
       "   site_domain  site_category  app_id app_domain  ...  device_type  \\\n",
       "0          301              2     293   7801e8d9  ...            1   \n",
       "1          301              2     293   7801e8d9  ...            1   \n",
       "2          301              2     293   7801e8d9  ...            1   \n",
       "3          301              2     293   7801e8d9  ...            1   \n",
       "4          169              0     293   7801e8d9  ...            1   \n",
       "\n",
       "  device_conn_type  C14 C15  C16   C17  C18  C19     C20  C21  \n",
       "0                1   67   2    1  1722    0   35      -1   79  \n",
       "1                0   65   2    1  1722    0   35  100084   79  \n",
       "2                0   65   2    1  1722    0   35  100084   79  \n",
       "3                0   67   2    1  1722    0   35  100084   79  \n",
       "4                0  135   2    1  2161    0   35      -1  157  \n",
       "\n",
       "[5 rows x 24 columns]"
      ]
     },
     "execution_count": 7,
     "metadata": {},
     "output_type": "execute_result"
    }
   ],
   "source": [
    "data.head()"
   ]
  },
  {
   "cell_type": "code",
   "execution_count": 5,
   "metadata": {},
   "outputs": [],
   "source": [
    "data.drop(['Unnamed: 0'], axis=1, inplace=True)"
   ]
  },
  {
   "cell_type": "code",
   "execution_count": 6,
   "metadata": {},
   "outputs": [],
   "source": [
    "# 对特征标签进行编码\n",
    "for feature in sparse_features:\n",
    "    lbe = LabelEncoder()\n",
    "    data[feature] = lbe.fit_transform(data[feature])"
   ]
  },
  {
   "cell_type": "code",
   "execution_count": 8,
   "metadata": {},
   "outputs": [
    {
     "name": "stdout",
     "output_type": "stream",
     "text": [
      "[SparseFeat(name='C1', vocabulary_size=6, embedding_dim=4, use_hash=False, dtype='int32', embedding_name='C1', group_name='default_group'), SparseFeat(name='banner_pos', vocabulary_size=4, embedding_dim=4, use_hash=False, dtype='int32', embedding_name='banner_pos', group_name='default_group'), SparseFeat(name='site_domain', vocabulary_size=317, embedding_dim=4, use_hash=False, dtype='int32', embedding_name='site_domain', group_name='default_group'), SparseFeat(name='site_id', vocabulary_size=381, embedding_dim=4, use_hash=False, dtype='int32', embedding_name='site_id', group_name='default_group'), SparseFeat(name='site_category', vocabulary_size=14, embedding_dim=4, use_hash=False, dtype='int32', embedding_name='site_category', group_name='default_group'), SparseFeat(name='app_id', vocabulary_size=313, embedding_dim=4, use_hash=False, dtype='int32', embedding_name='app_id', group_name='default_group'), SparseFeat(name='app_category', vocabulary_size=14, embedding_dim=4, use_hash=False, dtype='int32', embedding_name='app_category', group_name='default_group'), SparseFeat(name='device_type', vocabulary_size=4, embedding_dim=4, use_hash=False, dtype='int32', embedding_name='device_type', group_name='default_group'), SparseFeat(name='device_conn_type', vocabulary_size=4, embedding_dim=4, use_hash=False, dtype='int32', embedding_name='device_conn_type', group_name='default_group'), SparseFeat(name='C14', vocabulary_size=271, embedding_dim=4, use_hash=False, dtype='int32', embedding_name='C14', group_name='default_group'), SparseFeat(name='C15', vocabulary_size=4, embedding_dim=4, use_hash=False, dtype='int32', embedding_name='C15', group_name='default_group'), SparseFeat(name='C16', vocabulary_size=5, embedding_dim=4, use_hash=False, dtype='int32', embedding_name='C16', group_name='default_group')]\n",
      "['C1', 'banner_pos', 'site_domain', 'site_id', 'site_category', 'app_id', 'app_category', 'device_type', 'device_conn_type', 'C14', 'C15', 'C16']\n"
     ]
    }
   ],
   "source": [
    "# 计算每个特征中的 不同特征值的个数\n",
    "fixlen_feature_columns = [SparseFeat(feature, data[feature].nunique()) for feature in sparse_features]\n",
    "linear_feature_columns = fixlen_feature_columns\n",
    "dnn_feature_columns = fixlen_feature_columns\n",
    "feature_names = get_feature_names(linear_feature_columns + dnn_feature_columns)\n",
    "\n",
    "print(fixlen_feature_columns)\n",
    "print(feature_names)"
   ]
  },
  {
   "cell_type": "code",
   "execution_count": 11,
   "metadata": {},
   "outputs": [],
   "source": [
    "# 将数据集切分成训练集和测试集\n",
    "train, test = train_test_split(data, test_size=0.2)\n",
    "train_model_input = {name:train[name].values for name in feature_names}\n",
    "test_model_input = {name:test[name].values for name in feature_names}"
   ]
  },
  {
   "cell_type": "code",
   "execution_count": 14,
   "metadata": {},
   "outputs": [],
   "source": [
    "# 使用xDeepFM进行训练\n",
    "model = xDeepFM(linear_feature_columns, dnn_feature_columns, task='binary')\n",
    "\n",
    "# 计算logloss\n",
    "model.compile(\"adam\", \"binary_crossentropy\", metrics=['binary_crossentropy'], )"
   ]
  },
  {
   "cell_type": "code",
   "execution_count": 16,
   "metadata": {},
   "outputs": [
    {
     "name": "stdout",
     "output_type": "stream",
     "text": [
      "Train on 6400 samples, validate on 1600 samples\n",
      "Epoch 1/10\n",
      "6400/6400 [==============================] - 1s 187us/sample - loss: 0.4342 - binary_crossentropy: 0.4342 - val_loss: 0.4404 - val_binary_crossentropy: 0.4404\n",
      "Epoch 2/10\n",
      "6400/6400 [==============================] - 1s 191us/sample - loss: 0.4068 - binary_crossentropy: 0.4068 - val_loss: 0.4383 - val_binary_crossentropy: 0.4383\n",
      "Epoch 3/10\n",
      "6400/6400 [==============================] - 1s 181us/sample - loss: 0.3938 - binary_crossentropy: 0.3938 - val_loss: 0.4420 - val_binary_crossentropy: 0.4420\n",
      "Epoch 4/10\n",
      "6400/6400 [==============================] - 1s 172us/sample - loss: 0.3846 - binary_crossentropy: 0.3845 - val_loss: 0.4433 - val_binary_crossentropy: 0.4432\n",
      "Epoch 5/10\n",
      "6400/6400 [==============================] - 1s 174us/sample - loss: 0.3790 - binary_crossentropy: 0.3789 - val_loss: 0.4468 - val_binary_crossentropy: 0.4468\n",
      "Epoch 6/10\n",
      "6400/6400 [==============================] - 1s 175us/sample - loss: 0.3741 - binary_crossentropy: 0.3740 - val_loss: 0.4488 - val_binary_crossentropy: 0.4487\n",
      "Epoch 7/10\n",
      "6400/6400 [==============================] - 1s 175us/sample - loss: 0.3706 - binary_crossentropy: 0.3705 - val_loss: 0.4536 - val_binary_crossentropy: 0.4535\n",
      "Epoch 8/10\n",
      "6400/6400 [==============================] - 1s 186us/sample - loss: 0.3701 - binary_crossentropy: 0.3700 - val_loss: 0.4532 - val_binary_crossentropy: 0.4531\n",
      "Epoch 9/10\n",
      "6400/6400 [==============================] - 1s 176us/sample - loss: 0.3675 - binary_crossentropy: 0.3674 - val_loss: 0.4613 - val_binary_crossentropy: 0.4612\n",
      "Epoch 10/10\n",
      "6400/6400 [==============================] - 1s 178us/sample - loss: 0.3684 - binary_crossentropy: 0.3683 - val_loss: 0.4627 - val_binary_crossentropy: 0.4625\n",
      "test RMSE 0.3655133376499413\n"
     ]
    }
   ],
   "source": [
    "# fit model\n",
    "history = model.fit(train_model_input, train[target].values, batch_size=256, epochs=10, verbose=True, validation_split=0.2, )\n",
    "\n",
    "# 使用xDeepFM进行预测\n",
    "pred_ans = model.predict(test_model_input, batch_size=256)\n",
    "\n",
    "# 输出RMSE或MSE\n",
    "mse = round(mean_squared_error(test[target].values, pred_ans), 4)\n",
    "rmse = mse ** 0.5\n",
    "print(\"test RMSE\", rmse)"
   ]
  },
  {
   "cell_type": "code",
   "execution_count": 17,
   "metadata": {},
   "outputs": [
    {
     "name": "stdout",
     "output_type": "stream",
     "text": [
      "LogLoss 0.437828815815883\n"
     ]
    }
   ],
   "source": [
    "# 输出LogLoss\n",
    "from sklearn.metrics import log_loss\n",
    "score = log_loss(test[target].values, pred_ans)\n",
    "print(\"LogLoss\", score)"
   ]
  }
 ],
 "metadata": {
  "kernelspec": {
   "display_name": "Python 3",
   "language": "python",
   "name": "python3"
  },
  "language_info": {
   "codemirror_mode": {
    "name": "ipython",
    "version": 3
   },
   "file_extension": ".py",
   "mimetype": "text/x-python",
   "name": "python",
   "nbconvert_exporter": "python",
   "pygments_lexer": "ipython3",
   "version": "3.7.4"
  }
 },
 "nbformat": 4,
 "nbformat_minor": 4
}
