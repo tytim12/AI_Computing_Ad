{
 "cells": [
  {
   "cell_type": "markdown",
   "metadata": {},
   "source": [
    "#### surprise baseline 算法理解\n",
    "surprise包中的baselineOnly算法, 通过引入基准线（平均分）以及item和用户的偏差进行估算  \n",
    "基本思想都是通过矩阵分解，把大的稀疏矩阵拆分成 user矩阵^T 和 item矩阵 的内积，并学习user和item矩阵 补全缺失值，使差异最小。  \n",
    "\n",
    "baselineOnly算法可以传入ALS和SGD参数。  \n",
    "ALS参数使算法通过交替最小二乘法的方法，先固定一个矩阵，优化另一个，然后反过来继续优化值，直至梯度为零。  \n",
    "SGD参数使算法通过梯度下降的方法，使损失函数最小化。  "
   ]
  },
  {
   "cell_type": "code",
   "execution_count": 6,
   "metadata": {},
   "outputs": [],
   "source": [
    "import pandas as pd\n",
    "import os\n",
    "\n",
    "path = os.getcwd()\n",
    "\n",
    "from surprise import Dataset\n",
    "from surprise import Reader\n",
    "from surprise import BaselineOnly, KNNBasic, NormalPredictor\n",
    "from surprise import accuracy\n",
    "from surprise.model_selection import KFold"
   ]
  },
  {
   "cell_type": "code",
   "execution_count": 15,
   "metadata": {},
   "outputs": [],
   "source": [
    "# 查看一下数据\n",
    "movies = pd.read_csv(path+'/movies.csv', encoding='ansi')\n",
    "rating = pd.read_csv(path+'/ratings.csv', encoding='ansi')"
   ]
  },
  {
   "cell_type": "code",
   "execution_count": 16,
   "metadata": {},
   "outputs": [
    {
     "data": {
      "text/html": [
       "<div>\n",
       "<style scoped>\n",
       "    .dataframe tbody tr th:only-of-type {\n",
       "        vertical-align: middle;\n",
       "    }\n",
       "\n",
       "    .dataframe tbody tr th {\n",
       "        vertical-align: top;\n",
       "    }\n",
       "\n",
       "    .dataframe thead th {\n",
       "        text-align: right;\n",
       "    }\n",
       "</style>\n",
       "<table border=\"1\" class=\"dataframe\">\n",
       "  <thead>\n",
       "    <tr style=\"text-align: right;\">\n",
       "      <th></th>\n",
       "      <th>userId</th>\n",
       "      <th>movieId</th>\n",
       "      <th>rating</th>\n",
       "      <th>timestamp</th>\n",
       "    </tr>\n",
       "  </thead>\n",
       "  <tbody>\n",
       "    <tr>\n",
       "      <td>0</td>\n",
       "      <td>1</td>\n",
       "      <td>2</td>\n",
       "      <td>3.5</td>\n",
       "      <td>1112486027</td>\n",
       "    </tr>\n",
       "    <tr>\n",
       "      <td>1</td>\n",
       "      <td>1</td>\n",
       "      <td>29</td>\n",
       "      <td>3.5</td>\n",
       "      <td>1112484676</td>\n",
       "    </tr>\n",
       "    <tr>\n",
       "      <td>2</td>\n",
       "      <td>1</td>\n",
       "      <td>32</td>\n",
       "      <td>3.5</td>\n",
       "      <td>1112484819</td>\n",
       "    </tr>\n",
       "    <tr>\n",
       "      <td>3</td>\n",
       "      <td>1</td>\n",
       "      <td>47</td>\n",
       "      <td>3.5</td>\n",
       "      <td>1112484727</td>\n",
       "    </tr>\n",
       "    <tr>\n",
       "      <td>4</td>\n",
       "      <td>1</td>\n",
       "      <td>50</td>\n",
       "      <td>3.5</td>\n",
       "      <td>1112484580</td>\n",
       "    </tr>\n",
       "  </tbody>\n",
       "</table>\n",
       "</div>"
      ],
      "text/plain": [
       "   userId  movieId  rating   timestamp\n",
       "0       1        2     3.5  1112486027\n",
       "1       1       29     3.5  1112484676\n",
       "2       1       32     3.5  1112484819\n",
       "3       1       47     3.5  1112484727\n",
       "4       1       50     3.5  1112484580"
      ]
     },
     "execution_count": 16,
     "metadata": {},
     "output_type": "execute_result"
    }
   ],
   "source": [
    "rating.head()"
   ]
  },
  {
   "cell_type": "code",
   "execution_count": 17,
   "metadata": {},
   "outputs": [
    {
     "data": {
      "text/html": [
       "<div>\n",
       "<style scoped>\n",
       "    .dataframe tbody tr th:only-of-type {\n",
       "        vertical-align: middle;\n",
       "    }\n",
       "\n",
       "    .dataframe tbody tr th {\n",
       "        vertical-align: top;\n",
       "    }\n",
       "\n",
       "    .dataframe thead th {\n",
       "        text-align: right;\n",
       "    }\n",
       "</style>\n",
       "<table border=\"1\" class=\"dataframe\">\n",
       "  <thead>\n",
       "    <tr style=\"text-align: right;\">\n",
       "      <th></th>\n",
       "      <th>userId</th>\n",
       "      <th>movieId</th>\n",
       "      <th>rating</th>\n",
       "      <th>timestamp</th>\n",
       "    </tr>\n",
       "  </thead>\n",
       "  <tbody>\n",
       "    <tr>\n",
       "      <td>24860</td>\n",
       "      <td>196</td>\n",
       "      <td>592</td>\n",
       "      <td>4.0</td>\n",
       "      <td>937944680</td>\n",
       "    </tr>\n",
       "    <tr>\n",
       "      <td>24861</td>\n",
       "      <td>196</td>\n",
       "      <td>709</td>\n",
       "      <td>3.0</td>\n",
       "      <td>937945099</td>\n",
       "    </tr>\n",
       "    <tr>\n",
       "      <td>24862</td>\n",
       "      <td>196</td>\n",
       "      <td>1033</td>\n",
       "      <td>3.0</td>\n",
       "      <td>937944772</td>\n",
       "    </tr>\n",
       "    <tr>\n",
       "      <td>24863</td>\n",
       "      <td>196</td>\n",
       "      <td>1036</td>\n",
       "      <td>4.0</td>\n",
       "      <td>937944562</td>\n",
       "    </tr>\n",
       "    <tr>\n",
       "      <td>24864</td>\n",
       "      <td>196</td>\n",
       "      <td>1088</td>\n",
       "      <td>5.0</td>\n",
       "      <td>937945099</td>\n",
       "    </tr>\n",
       "    <tr>\n",
       "      <td>...</td>\n",
       "      <td>...</td>\n",
       "      <td>...</td>\n",
       "      <td>...</td>\n",
       "      <td>...</td>\n",
       "    </tr>\n",
       "    <tr>\n",
       "      <td>24945</td>\n",
       "      <td>196</td>\n",
       "      <td>2787</td>\n",
       "      <td>5.0</td>\n",
       "      <td>937944772</td>\n",
       "    </tr>\n",
       "    <tr>\n",
       "      <td>24946</td>\n",
       "      <td>196</td>\n",
       "      <td>2794</td>\n",
       "      <td>3.0</td>\n",
       "      <td>937945378</td>\n",
       "    </tr>\n",
       "    <tr>\n",
       "      <td>24947</td>\n",
       "      <td>196</td>\n",
       "      <td>2797</td>\n",
       "      <td>5.0</td>\n",
       "      <td>937944098</td>\n",
       "    </tr>\n",
       "    <tr>\n",
       "      <td>24948</td>\n",
       "      <td>196</td>\n",
       "      <td>2805</td>\n",
       "      <td>3.0</td>\n",
       "      <td>937943509</td>\n",
       "    </tr>\n",
       "    <tr>\n",
       "      <td>24949</td>\n",
       "      <td>196</td>\n",
       "      <td>2846</td>\n",
       "      <td>2.0</td>\n",
       "      <td>937945167</td>\n",
       "    </tr>\n",
       "  </tbody>\n",
       "</table>\n",
       "<p>90 rows × 4 columns</p>\n",
       "</div>"
      ],
      "text/plain": [
       "       userId  movieId  rating  timestamp\n",
       "24860     196      592     4.0  937944680\n",
       "24861     196      709     3.0  937945099\n",
       "24862     196     1033     3.0  937944772\n",
       "24863     196     1036     4.0  937944562\n",
       "24864     196     1088     5.0  937945099\n",
       "...       ...      ...     ...        ...\n",
       "24945     196     2787     5.0  937944772\n",
       "24946     196     2794     3.0  937945378\n",
       "24947     196     2797     5.0  937944098\n",
       "24948     196     2805     3.0  937943509\n",
       "24949     196     2846     2.0  937945167\n",
       "\n",
       "[90 rows x 4 columns]"
      ]
     },
     "execution_count": 17,
     "metadata": {},
     "output_type": "execute_result"
    }
   ],
   "source": [
    "rating[rating['userId'] == 196]"
   ]
  },
  {
   "cell_type": "code",
   "execution_count": 9,
   "metadata": {},
   "outputs": [],
   "source": [
    "rating = pd.merge(rating, movies, on='movieId', how='left')"
   ]
  },
  {
   "cell_type": "code",
   "execution_count": 2,
   "metadata": {},
   "outputs": [],
   "source": [
    "# 读取本地数据集\n",
    "reader = Reader(line_format='user item rating timestamp', sep=',', skip_lines=1)\n",
    "data = Dataset.load_from_file('./ratings.csv', reader=reader)\n",
    "train_set = data.build_full_trainset()"
   ]
  },
  {
   "cell_type": "code",
   "execution_count": 19,
   "metadata": {},
   "outputs": [
    {
     "name": "stdout",
     "output_type": "stream",
     "text": [
      "Estimating biases using als...\n",
      "RMSE: 0.8643\n",
      "Estimating biases using als...\n",
      "RMSE: 0.8649\n",
      "Estimating biases using als...\n",
      "RMSE: 0.8622\n",
      "user: 196        item: 592        r_ui = 4.00   est = 3.74   {'was_impossible': False}\n"
     ]
    }
   ],
   "source": [
    "# ALS 优化器\n",
    "bsl_options = {'method': 'als',\n",
    "               'n_epochs': 5,\n",
    "               'reg_u': 12,\n",
    "               'reg_i': 5}\n",
    "\n",
    "algo = BaselineOnly(bsl_options=bsl_options)\n",
    "\n",
    "kf = KFold(n_splits=3)\n",
    "for trainset, testset in kf.split(data):\n",
    "    algo.fit(trainset)\n",
    "    predictions = algo.test(testset)\n",
    "    accuracy.rmse(predictions, verbose=True)\n",
    "\n",
    "\n",
    "# try predictions\n",
    "uid = str(196)\n",
    "iid = str(592)\n",
    "pred = algo.predict(uid, iid, r_ui=4, verbose=True)"
   ]
  },
  {
   "cell_type": "code",
   "execution_count": 14,
   "metadata": {},
   "outputs": [
    {
     "name": "stdout",
     "output_type": "stream",
     "text": [
      "Estimating biases using sgd...\n",
      "RMSE: 0.8731\n",
      "Estimating biases using sgd...\n",
      "RMSE: 0.8758\n",
      "Estimating biases using sgd...\n",
      "RMSE: 0.8745\n",
      "user: 196        item: 302        r_ui = 4.00   est = 3.90   {'was_impossible': False}\n"
     ]
    }
   ],
   "source": [
    "# SGD优化器\n",
    "bsl_options = {'method': 'sgd','n_epochs': 5}\n",
    "algo = BaselineOnly(bsl_options=bsl_options)\n",
    "#algo = NormalPredictor()\n",
    "\n",
    "# 定义K折交叉验证迭代器，K=3\n",
    "kf = KFold(n_splits=3)\n",
    "for trainset, testset in kf.split(data):\n",
    "    algo.fit(trainset)\n",
    "    predictions = algo.test(testset)\n",
    "    accuracy.rmse(predictions, verbose=True)\n",
    "\n",
    "uid = str(196)\n",
    "iid = str(592)\n",
    "# 输出uid对iid的预测结果\n",
    "pred = algo.predict(uid, iid, r_ui=4, verbose=True)"
   ]
  },
  {
   "cell_type": "markdown",
   "metadata": {},
   "source": [
    "#### Slope one理解\n",
    "Slope One 属于 Item-Based 的协同过滤推荐算法，通过计算共现item之间的打分差异补全稀疏矩阵，和其它算法相比SlopeOne更简单, 具有更高效, 同时推荐的准确性相对较高。"
   ]
  },
  {
   "cell_type": "code",
   "execution_count": 4,
   "metadata": {},
   "outputs": [
    {
     "name": "stdout",
     "output_type": "stream",
     "text": [
      "RMSE: 0.8679\n",
      "RMSE: 0.8682\n",
      "RMSE: 0.8685\n"
     ]
    }
   ],
   "source": [
    "from surprise import SVD\n",
    "from surprise import Dataset\n",
    "# from surprise.model_selection import cross_validate\n",
    "# from surprise import evaluate, print_perf\n",
    "from surprise import Reader\n",
    "from surprise import BaselineOnly, KNNBasic, KNNBaseline, SlopeOne\n",
    "from surprise import accuracy\n",
    "from surprise.model_selection import KFold\n",
    "# import pandas as pd\n",
    "# import io\n",
    "\n",
    "\n",
    "# 读取物品（电影）名称信息\n",
    "'''\n",
    "def read_item_names():\n",
    "    file_name = ('./movies.csv') \n",
    "    data = pd.read_csv('./movies.csv')\n",
    "    rid_to_name = {}\n",
    "    name_to_rid = {}\n",
    "    for i in range(len(data['movieId'])):\n",
    "        rid_to_name[data['movieId'][i]] = data['title'][i]\n",
    "        name_to_rid[data['title'][i]] = data['movieId'][i]\n",
    "\n",
    "    return rid_to_name, name_to_rid \n",
    "'''\n",
    "\n",
    "\n",
    "# 数据读取\n",
    "reader = Reader(line_format='user item rating timestamp', sep=',', skip_lines=1)\n",
    "data = Dataset.load_from_file('./ratings.csv', reader=reader)\n",
    "train_set = data.build_full_trainset()\n",
    "\n",
    "algo = SlopeOne()\n",
    "# algo = SVD()\n",
    "\n",
    "# 使用 3折交叉验证，输出 RMSE\n",
    "kf = KFold(n_splits=3)\n",
    "for trainset, testset in kf.split(data):\n",
    "    algo.fit(trainset)\n",
    "    pred = algo.test(testset)\n",
    "    accuracy.rmse(pred, verbose=True)\n",
    "    \n",
    "\n",
    "\n",
    "\n",
    "# algo = SVD()  # 使用SVD算法\n",
    "# algo = SlopeOne() # 使用SlopeOne算法\n",
    "# algo.fit(train_set)\n",
    "\n",
    "# 对指定用户和商品进行评分预测\n",
    "# uid = str(196) \n",
    "# iid = str(302) \n",
    "# pred = algo.predict(uid, iid, r_ui=4, verbose=True)"
   ]
  },
  {
   "cell_type": "code",
   "execution_count": 5,
   "metadata": {},
   "outputs": [
    {
     "name": "stdout",
     "output_type": "stream",
     "text": [
      "user: 196        item: 302        r_ui = 4.00   est = 4.65   {'was_impossible': False}\n"
     ]
    }
   ],
   "source": [
    "# 针对指定用户和商品打分\n",
    "uid = str(196) \n",
    "iid = str(302) \n",
    "pred = algo.predict(uid, iid, r_ui=4, verbose=True)"
   ]
  }
 ],
 "metadata": {
  "kernelspec": {
   "display_name": "Python 3",
   "language": "python",
   "name": "python3"
  },
  "language_info": {
   "codemirror_mode": {
    "name": "ipython",
    "version": 3
   },
   "file_extension": ".py",
   "mimetype": "text/x-python",
   "name": "python",
   "nbconvert_exporter": "python",
   "pygments_lexer": "ipython3",
   "version": "3.7.4"
  }
 },
 "nbformat": 4,
 "nbformat_minor": 4
}
