{
 "cells": [
  {
   "cell_type": "code",
   "execution_count": 20,
   "metadata": {},
   "outputs": [],
   "source": [
    "import pandas as pd\n",
    "from sklearn.metrics import mean_squared_error\n",
    "from sklearn.model_selection import train_test_split\n",
    "from sklearn.preprocessing import LabelEncoder\n",
    "\n",
    "from deepctr.models import WDL\n",
    "from deepctr.inputs import SparseFeat, get_feature_names"
   ]
  },
  {
   "cell_type": "code",
   "execution_count": 21,
   "metadata": {},
   "outputs": [
    {
     "data": {
      "text/html": [
       "<div>\n",
       "<style scoped>\n",
       "    .dataframe tbody tr th:only-of-type {\n",
       "        vertical-align: middle;\n",
       "    }\n",
       "\n",
       "    .dataframe tbody tr th {\n",
       "        vertical-align: top;\n",
       "    }\n",
       "\n",
       "    .dataframe thead th {\n",
       "        text-align: right;\n",
       "    }\n",
       "</style>\n",
       "<table border=\"1\" class=\"dataframe\">\n",
       "  <thead>\n",
       "    <tr style=\"text-align: right;\">\n",
       "      <th></th>\n",
       "      <th>user_id</th>\n",
       "      <th>movie_id</th>\n",
       "      <th>rating</th>\n",
       "      <th>timestamp</th>\n",
       "      <th>title</th>\n",
       "      <th>genres</th>\n",
       "      <th>gender</th>\n",
       "      <th>age</th>\n",
       "      <th>occupation</th>\n",
       "      <th>zip</th>\n",
       "    </tr>\n",
       "  </thead>\n",
       "  <tbody>\n",
       "    <tr>\n",
       "      <th>0</th>\n",
       "      <td>3299</td>\n",
       "      <td>235</td>\n",
       "      <td>4</td>\n",
       "      <td>968035345</td>\n",
       "      <td>Ed Wood (1994)</td>\n",
       "      <td>Comedy|Drama</td>\n",
       "      <td>F</td>\n",
       "      <td>25</td>\n",
       "      <td>4</td>\n",
       "      <td>19119</td>\n",
       "    </tr>\n",
       "    <tr>\n",
       "      <th>1</th>\n",
       "      <td>3630</td>\n",
       "      <td>3256</td>\n",
       "      <td>3</td>\n",
       "      <td>966536874</td>\n",
       "      <td>Patriot Games (1992)</td>\n",
       "      <td>Action|Thriller</td>\n",
       "      <td>M</td>\n",
       "      <td>18</td>\n",
       "      <td>4</td>\n",
       "      <td>77005</td>\n",
       "    </tr>\n",
       "    <tr>\n",
       "      <th>2</th>\n",
       "      <td>517</td>\n",
       "      <td>105</td>\n",
       "      <td>4</td>\n",
       "      <td>976203603</td>\n",
       "      <td>Bridges of Madison County, The (1995)</td>\n",
       "      <td>Drama|Romance</td>\n",
       "      <td>F</td>\n",
       "      <td>25</td>\n",
       "      <td>14</td>\n",
       "      <td>55408</td>\n",
       "    </tr>\n",
       "    <tr>\n",
       "      <th>3</th>\n",
       "      <td>785</td>\n",
       "      <td>2115</td>\n",
       "      <td>3</td>\n",
       "      <td>975430389</td>\n",
       "      <td>Indiana Jones and the Temple of Doom (1984)</td>\n",
       "      <td>Action|Adventure</td>\n",
       "      <td>M</td>\n",
       "      <td>18</td>\n",
       "      <td>19</td>\n",
       "      <td>29307</td>\n",
       "    </tr>\n",
       "    <tr>\n",
       "      <th>4</th>\n",
       "      <td>5848</td>\n",
       "      <td>909</td>\n",
       "      <td>5</td>\n",
       "      <td>957782527</td>\n",
       "      <td>Apartment, The (1960)</td>\n",
       "      <td>Comedy|Drama</td>\n",
       "      <td>M</td>\n",
       "      <td>50</td>\n",
       "      <td>20</td>\n",
       "      <td>20009</td>\n",
       "    </tr>\n",
       "  </tbody>\n",
       "</table>\n",
       "</div>"
      ],
      "text/plain": [
       "   user_id  movie_id  rating  timestamp  \\\n",
       "0     3299       235       4  968035345   \n",
       "1     3630      3256       3  966536874   \n",
       "2      517       105       4  976203603   \n",
       "3      785      2115       3  975430389   \n",
       "4     5848       909       5  957782527   \n",
       "\n",
       "                                         title            genres gender  age  \\\n",
       "0                               Ed Wood (1994)      Comedy|Drama      F   25   \n",
       "1                         Patriot Games (1992)   Action|Thriller      M   18   \n",
       "2        Bridges of Madison County, The (1995)     Drama|Romance      F   25   \n",
       "3  Indiana Jones and the Temple of Doom (1984)  Action|Adventure      M   18   \n",
       "4                        Apartment, The (1960)      Comedy|Drama      M   50   \n",
       "\n",
       "   occupation    zip  \n",
       "0           4  19119  \n",
       "1           4  77005  \n",
       "2          14  55408  \n",
       "3          19  29307  \n",
       "4          20  20009  "
      ]
     },
     "execution_count": 21,
     "metadata": {},
     "output_type": "execute_result"
    }
   ],
   "source": [
    "data = pd.read_csv(r'./movielens_sample.txt')\n",
    "data.head()"
   ]
  },
  {
   "cell_type": "code",
   "execution_count": 22,
   "metadata": {},
   "outputs": [],
   "source": [
    "# 确定稀疏数据和连续数据\n",
    "sparse = ['movie_id', 'user_id', 'gender', 'age', 'occupation', 'zip'] \n",
    "target = ['rating']"
   ]
  },
  {
   "cell_type": "code",
   "execution_count": 23,
   "metadata": {},
   "outputs": [],
   "source": [
    "# 给sparse features转码\n",
    "for label in sparse:\n",
    "    lbe = LabelEncoder()\n",
    "    data[label] = lbe.fit_transform(data[label])"
   ]
  },
  {
   "cell_type": "code",
   "execution_count": 24,
   "metadata": {},
   "outputs": [],
   "source": [
    "# 计算每个特征中的 不同特征值的个数\n",
    "fixlen_feature_columns = [SparseFeat(feature, data[label].nunique()) for feature in sparse]\n",
    "\n",
    "# 共享输入\n",
    "linear_feature_columns = fixlen_feature_columns\n",
    "dnn_feature_columns = fixlen_feature_columns\n",
    "feature_names = get_feature_names(linear_feature_columns + dnn_feature_columns)"
   ]
  },
  {
   "cell_type": "code",
   "execution_count": 25,
   "metadata": {},
   "outputs": [
    {
     "name": "stdout",
     "output_type": "stream",
     "text": [
      "['movie_id', 'user_id', 'gender', 'age', 'occupation', 'zip']\n"
     ]
    }
   ],
   "source": [
    "print(feature_names)"
   ]
  },
  {
   "cell_type": "code",
   "execution_count": 26,
   "metadata": {},
   "outputs": [
    {
     "name": "stdout",
     "output_type": "stream",
     "text": [
      "{'movie_id': array([112,  83, 142,  96,  34,  46,  29, 161,  94,  35,  88, 124,  54,\n",
      "        25,  82,  13,  19,  57, 140,  87,  27, 141, 105, 147, 176,  81,\n",
      "       169, 158, 126, 175,  31, 186, 127, 118,  11, 160, 130, 102,  77,\n",
      "       155,  32, 154, 104, 133,  52,   1,  12, 123, 170, 152, 116, 181,\n",
      "       129,  45,   9, 151, 139, 149,  21, 103, 169, 132,  26, 183,   7,\n",
      "        56,  20,  79, 113,  30,  70,  16,  78, 125, 165, 174, 109,  75,\n",
      "        65, 122, 178,  85, 162,  67,  74, 180, 173, 111, 156, 108,  33,\n",
      "        66,  41,  24, 106,  48, 168,  40,  50, 137,  76, 112,  15,  51,\n",
      "       157,  17, 107, 119,  98,   8,  80,  69,  49,  89, 138,  66, 136,\n",
      "         9,   6,  92, 163, 166, 134, 167, 121,   5, 150, 123,  28,  53,\n",
      "        38,  42, 145,  71, 149,  58,  59,  61,  60,  44, 171,  35, 114,\n",
      "       170,  22, 159,  73, 172,  68, 177,  10,  23,   0,  34,  43,  95,\n",
      "       153,   3,  36, 117], dtype=int64), 'user_id': array([ 21,  52,   5, 138, 157,  81, 108,  89, 177,   0, 118, 159,  33,\n",
      "         9,  97,  15,  27,  30, 113,  44, 189, 163, 121, 117,  46,  29,\n",
      "       110,  49,  37, 138, 124,  67, 103,  42,  13, 132, 146,  48,  63,\n",
      "       105, 126,  92,  54, 116,   6, 180, 107, 147, 178,  36, 144, 167,\n",
      "       186, 187, 184, 153,  83, 109,  96,  18, 123, 125, 179,  99, 185,\n",
      "        85,  20,  57, 188, 134,  72,  51, 129,   4, 156,  68, 191,   8,\n",
      "        53,  65,  32,  84,  44,  69, 101, 145,  10, 160,  24,   1,  91,\n",
      "       154,  34,  43,  80,  74, 192,  78, 173, 175,  31, 182, 181,  79,\n",
      "        38, 165,  59,  87,  35, 150, 171, 111,  76, 131,  55, 183,  66,\n",
      "        45,  12, 162, 141, 136, 112, 174,  62, 120,  29,  41, 139,   2,\n",
      "        19,  16, 100,  17, 142, 140, 169,  40,  98,  22, 122, 133, 148,\n",
      "        11, 190, 164, 166, 168, 161, 115, 170,  93,  26, 172, 102,  70,\n",
      "       127,  71,  58, 176], dtype=int64), 'gender': array([1, 1, 1, 1, 1, 1, 0, 1, 0, 1, 1, 1, 1, 1, 0, 1, 0, 1, 0, 1, 1, 1,\n",
      "       0, 1, 1, 1, 1, 1, 0, 1, 1, 1, 1, 0, 0, 1, 1, 1, 1, 1, 1, 0, 1, 0,\n",
      "       1, 1, 0, 0, 0, 1, 1, 1, 1, 1, 1, 1, 1, 1, 1, 1, 1, 1, 1, 1, 1, 1,\n",
      "       1, 0, 1, 1, 1, 1, 1, 0, 0, 1, 0, 0, 1, 1, 1, 0, 1, 1, 0, 1, 1, 1,\n",
      "       1, 1, 1, 1, 0, 0, 1, 1, 1, 1, 1, 1, 0, 0, 1, 1, 1, 0, 1, 0, 0, 1,\n",
      "       1, 1, 1, 1, 1, 1, 1, 1, 0, 0, 1, 0, 1, 1, 1, 0, 1, 1, 1, 1, 1, 1,\n",
      "       1, 1, 1, 1, 1, 1, 1, 1, 1, 1, 0, 1, 1, 0, 1, 1, 0, 1, 1, 0, 1, 1,\n",
      "       0, 1, 1, 1, 1, 1]), 'age': array([1, 2, 2, 3, 1, 4, 1, 2, 2, 3, 1, 3, 1, 2, 3, 5, 5, 3, 4, 3, 0, 4,\n",
      "       1, 3, 2, 2, 3, 2, 1, 3, 3, 2, 2, 2, 2, 2, 6, 2, 2, 5, 4, 5, 2, 4,\n",
      "       5, 3, 2, 5, 2, 1, 2, 1, 2, 5, 2, 2, 5, 2, 2, 2, 1, 2, 6, 1, 2, 3,\n",
      "       0, 5, 2, 2, 3, 5, 5, 1, 5, 5, 2, 3, 5, 1, 1, 0, 3, 4, 2, 3, 3, 5,\n",
      "       5, 6, 1, 6, 2, 2, 2, 1, 2, 1, 1, 4, 4, 2, 2, 5, 3, 2, 2, 2, 2, 6,\n",
      "       2, 3, 5, 1, 3, 1, 5, 2, 2, 3, 5, 2, 3, 2, 3, 4, 2, 2, 5, 1, 1, 1,\n",
      "       4, 6, 2, 2, 1, 3, 3, 0, 6, 2, 2, 2, 1, 5, 2, 3, 6, 1, 2, 3, 1, 6,\n",
      "       0, 4, 0, 6, 1, 4], dtype=int64), 'occupation': array([18, 11, 11, 15,  4,  6,  4, 13, 16,  7, 16,  0,  4, 11, 19, 16,  0,\n",
      "        3,  1, 14,  9,  1, 14,  2, 11,  0,  7,  0, 19, 15,  7,  7,  2, 13,\n",
      "        0, 19,  1, 11, 18, 12,  7, 19, 19,  7, 14, 16,  4,  6,  6,  4,  4,\n",
      "       13,  1, 19,  2, 13, 13, 11,  0,  0,  4,  4, 15,  0,  0,  1,  9,  6,\n",
      "        7, 16, 16,  7,  6, 13, 17, 10, 14,  0, 15,  0,  4,  9, 14, 13,  3,\n",
      "       16,  7, 13,  1,  1, 16,  1,  3,  7,  0,  4,  6,  0, 11,  7,  8, 10,\n",
      "        0, 11,  2,  8,  3,  3, 18,  7, 11, 19, 15, 11, 11, 14, 15,  0, 13,\n",
      "        4, 11,  0,  1, 10,  5,  0,  0, 18,  7,  4,  4,  4,  1, 16,  0, 16,\n",
      "        9,  4, 11, 18, 16,  0,  1, 15,  5, 11,  7,  1,  2,  4, 15,  0, 13,\n",
      "        0,  1, 19,  9, 12,  4,  1], dtype=int64), 'zip': array([ 55, 123, 139,  75, 109,   4, 130,  38,   2, 100, 111, 155, 168,\n",
      "        96, 178,  64, 182,  27,  33,  44,  46,  34,   7, 107,  48,  21,\n",
      "       116, 104,  85,  75,  16, 151, 135,  66,  68, 138,  76, 147,  29,\n",
      "       154,  56,  54, 166,  57,  95,  17,  35,  81,   8, 181,  79,  20,\n",
      "       142,  41, 115,  52,  32, 120,  22,  67, 118, 112,  61, 108, 146,\n",
      "        50,  72,  60,  11,  84, 157,  53,  30,  83,  14, 144,  62,  97,\n",
      "       184, 162, 132,  82,  44, 165,  92,  39,  18,  98,  45,  86,  90,\n",
      "        51, 124,  40,  77, 101,  26,  94, 134,   3, 169,   6, 106, 125,\n",
      "        36, 150, 173,  87, 128,  70, 161,  59,  15, 113, 170, 153, 143,\n",
      "       131,  99, 174,  63,  42,  43,  99,  25, 121,  21, 156,  71,  13,\n",
      "       180, 149, 136,  65,  73, 185, 110, 179, 171,  89,  49, 127, 141,\n",
      "        93, 175, 167, 103, 114, 160, 122,  58,  10, 117, 119, 137, 148,\n",
      "        12, 163,   0, 145])}\n"
     ]
    }
   ],
   "source": [
    "# 将数据集切分成训练集和测试集\n",
    "train, test = train_test_split(data, test_size=0.2)\n",
    "train_model_input = {name:train[name].values for name in feature_names}\n",
    "test_model_input = {name:test[name].values for name in feature_names}\n",
    "\n",
    "print(train_model_input)"
   ]
  },
  {
   "cell_type": "code",
   "execution_count": 32,
   "metadata": {},
   "outputs": [
    {
     "name": "stdout",
     "output_type": "stream",
     "text": [
      "Train on 128 samples, validate on 32 samples\n",
      "Epoch 1/10\n",
      "128/128 [==============================] - 2s 12ms/sample - loss: 14.3597 - mean_squared_error: 14.3597 - val_loss: 14.2634 - val_mean_squared_error: 14.2634\n",
      "Epoch 2/10\n",
      "128/128 [==============================] - 0s 118us/sample - loss: 14.2600 - mean_squared_error: 14.2600 - val_loss: 14.1762 - val_mean_squared_error: 14.1762\n",
      "Epoch 3/10\n",
      "128/128 [==============================] - 0s 117us/sample - loss: 14.1541 - mean_squared_error: 14.1541 - val_loss: 14.0843 - val_mean_squared_error: 14.0843\n",
      "Epoch 4/10\n",
      "128/128 [==============================] - 0s 133us/sample - loss: 14.0437 - mean_squared_error: 14.0437 - val_loss: 13.9894 - val_mean_squared_error: 13.9894\n",
      "Epoch 5/10\n",
      "128/128 [==============================] - 0s 110us/sample - loss: 13.9299 - mean_squared_error: 13.9299 - val_loss: 13.8905 - val_mean_squared_error: 13.8905\n",
      "Epoch 6/10\n",
      "128/128 [==============================] - 0s 118us/sample - loss: 13.8124 - mean_squared_error: 13.8124 - val_loss: 13.7873 - val_mean_squared_error: 13.7873\n",
      "Epoch 7/10\n",
      "128/128 [==============================] - 0s 110us/sample - loss: 13.6907 - mean_squared_error: 13.6907 - val_loss: 13.6798 - val_mean_squared_error: 13.6798\n",
      "Epoch 8/10\n",
      "128/128 [==============================] - 0s 126us/sample - loss: 13.5648 - mean_squared_error: 13.5648 - val_loss: 13.5678 - val_mean_squared_error: 13.5678\n",
      "Epoch 9/10\n",
      "128/128 [==============================] - 0s 118us/sample - loss: 13.4344 - mean_squared_error: 13.4344 - val_loss: 13.4511 - val_mean_squared_error: 13.4511\n",
      "Epoch 10/10\n",
      "128/128 [==============================] - 0s 110us/sample - loss: 13.2993 - mean_squared_error: 13.2993 - val_loss: 13.3294 - val_mean_squared_error: 13.3294\n",
      "test RMSE = 3.5085467076839665\n"
     ]
    }
   ],
   "source": [
    "# 使用WDL训练\n",
    "model = WDL(linear_feature_columns, dnn_feature_columns, task='regression')\n",
    "model.compile('adam', 'mse', metrics=['mse'])\n",
    "\n",
    "history = model.fit(train_model_input, train[target].values, \n",
    "                    batch_size=256, epochs=10, verbose=True, validation_split=0.2,)\n",
    "\n",
    "pred_ans = model.predict(test_model_input, batch_size=256)\n",
    "\n",
    "mse = round(mean_squared_error(test[target].values, pred_ans), 4)\n",
    "rmse = mse ** 0.5\n",
    "print(f'test RMSE = {rmse}')"
   ]
  }
 ],
 "metadata": {
  "kernelspec": {
   "display_name": "Python 3",
   "language": "python",
   "name": "python3"
  },
  "language_info": {
   "codemirror_mode": {
    "name": "ipython",
    "version": 3
   },
   "file_extension": ".py",
   "mimetype": "text/x-python",
   "name": "python",
   "nbconvert_exporter": "python",
   "pygments_lexer": "ipython3",
   "version": "3.7.3"
  }
 },
 "nbformat": 4,
 "nbformat_minor": 2
}
