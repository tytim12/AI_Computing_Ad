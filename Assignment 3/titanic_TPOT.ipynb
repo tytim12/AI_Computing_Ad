{
 "cells": [
  {
   "cell_type": "code",
   "execution_count": 1,
   "metadata": {},
   "outputs": [
    {
     "name": "stdout",
     "output_type": "stream",
     "text": [
      "['Age', 'Embarked=C', 'Embarked=Q', 'Embarked=S', 'Fare', 'Parch', 'Pclass', 'Sex=female', 'Sex=male', 'SibSp']\n"
     ]
    }
   ],
   "source": [
    "import numpy as np\n",
    "import pandas as pd\n",
    "from sklearn.tree import DecisionTreeClassifier\n",
    "from sklearn.feature_extraction import DictVectorizer\n",
    "from sklearn.model_selection import cross_val_score\n",
    "from sklearn import metrics\n",
    "from sklearn.feature_extraction import DictVectorizer\n",
    "from sklearn.linear_model.logistic import LogisticRegression\n",
    "import  matplotlib.pyplot as plt\n",
    "\n",
    "# 数据加载\n",
    "train_data = pd.read_csv('./train.csv')\n",
    "test_data = pd.read_csv('./test.csv')\n",
    "\n",
    "\n",
    "# 使用平均年龄来填充年龄中的nan值\n",
    "train_data['Age'].fillna(train_data['Age'].mean(), inplace=True)\n",
    "test_data['Age'].fillna(test_data['Age'].mean(),inplace=True)\n",
    "\n",
    "# 使用票价的均值填充票价中的nan值\n",
    "train_data['Fare'].fillna(train_data['Fare'].mean(), inplace=True)\n",
    "test_data['Fare'].fillna(test_data['Fare'].mean(),inplace=True)\n",
    "\n",
    "\n",
    "# 使用登录最多的港口来填充登录港口的nan值\n",
    "train_data['Embarked'].fillna('S', inplace=True)\n",
    "test_data['Embarked'].fillna('S',inplace=True)\n",
    "\n",
    "# 特征选择\n",
    "features = ['Pclass', 'Sex', 'Age', 'SibSp', 'Parch', 'Fare', 'Embarked']\n",
    "train_features = train_data[features]\n",
    "train_labels = train_data['Survived']\n",
    "test_features = test_data[features]\n",
    "\n",
    "# 特征向量化，无稀疏矩阵\n",
    "dvec=DictVectorizer(sparse=False)\n",
    "train_features=dvec.fit_transform(train_features.to_dict(orient='record'))\n",
    "print(dvec.feature_names_)\n"
   ]
  },
  {
   "cell_type": "code",
   "execution_count": 2,
   "metadata": {},
   "outputs": [
    {
     "name": "stdout",
     "output_type": "stream",
     "text": [
      "[LibLinear][ -1.55531285  34.26688845  29.17524188  16.36120837   0.1417803\n",
      "  -4.21450153 -43.97007587 100.         -20.1966613  -14.14351009]\n"
     ]
    },
    {
     "name": "stderr",
     "output_type": "stream",
     "text": [
      "C:\\ProgramData\\Anaconda3\\lib\\site-packages\\sklearn\\linear_model\\logistic.py:432: FutureWarning: Default solver will be changed to 'lbfgs' in 0.22. Specify a solver to silence this warning.\n",
      "  FutureWarning)\n"
     ]
    },
    {
     "data": {
      "image/png": "[encoded data removed]",
      "text/plain": [
       "<Figure size 432x288 with 1 Axes>"
      ]
     },
     "metadata": {
      "needs_background": "light"
     },
     "output_type": "display_data"
    }
   ],
   "source": [
    "def show_feature_importance(feature_list, feature_importance):\n",
    "\t# 设定阈值\n",
    "\tfi_threshold = 20\n",
    "\t# 重要特征的下标\n",
    "\timportant_idx = np.where(feature_importance > fi_threshold)[0]\n",
    "\t# 特征名称\n",
    "\timportant_features = [feature_list[i] for i in important_idx]\n",
    "\t# 重要特征\n",
    "\tsorted_idx = np.argsort(feature_importance[important_idx])[::-1]\n",
    "\t# 可视化\n",
    "\tpos = np.arange(sorted_idx.shape[0]) + 0.5\n",
    "\tplt.subplot(1, 2, 2)\n",
    "\tplt.title('Feature Importance')\n",
    "\tplt.barh(pos, feature_importance[important_idx][sorted_idx[::-1]], color='r',align='center')\n",
    "\tplt.yticks(pos, [important_features[i] for i in sorted_idx[::-1]])\n",
    "\tplt.xlabel('Relative Importance')\n",
    "\tplt.draw()\n",
    "\tplt.show()\n",
    "\n",
    "# 构造LR分类器\n",
    "#clf = RandomForestClassifier(oob_score=True, n_estimators=100)\n",
    "clf = LogisticRegression(max_iter=100, verbose=True, random_state=33, tol=1e-4)\n",
    "\n",
    "# 决策树训练\n",
    "clf.fit(train_features, train_labels)\n",
    "# 获取特征重要性\n",
    "#feature_importance = clf.feature_importances_[0]\n",
    "feature_importance = clf.coef_[0]\n",
    "feature_importance = 100.0 * (feature_importance / feature_importance.max())\n",
    "print(feature_importance)\n",
    "\n",
    "# 重要特征可视化\n",
    "show_feature_importance(dvec.feature_names_, feature_importance)"
   ]
  },
  {
   "cell_type": "code",
   "execution_count": 3,
   "metadata": {},
   "outputs": [
    {
     "name": "stdout",
     "output_type": "stream",
     "text": [
      "score准确率为 0.9820\n",
      "cross_val_score准确率为 0.7880\n"
     ]
    }
   ],
   "source": [
    "# 方法2\n",
    "# 构造ID3决策树\n",
    "clf = DecisionTreeClassifier(criterion='entropy')\n",
    "# 决策树训练\n",
    "clf.fit(train_features, train_labels)\n",
    "\n",
    "test_features=dvec.transform(test_features.to_dict(orient='record'))\n",
    "# 决策树预测\n",
    "pred_labels = clf.predict(test_features)\n",
    "\n",
    "# 得到决策树准确率(基于训练集)\n",
    "acc_decision_tree = round(clf.score(train_features, train_labels), 6)\n",
    "print(u'score准确率为 %.4lf' % acc_decision_tree)\n",
    "\n",
    "# 使用K折交叉验证 统计决策树准确率\n",
    "print(u'cross_val_score准确率为 %.4lf' % np.mean(cross_val_score(clf, train_features, train_labels, cv=10)))\n"
   ]
  }
 ],
 "metadata": {
  "kernelspec": {
   "display_name": "Python 3",
   "language": "python",
   "name": "python3"
  },
  "language_info": {
   "codemirror_mode": {
    "name": "ipython",
    "version": 3
   },
   "file_extension": ".py",
   "mimetype": "text/x-python",
   "name": "python",
   "nbconvert_exporter": "python",
   "pygments_lexer": "ipython3",
   "version": "3.7.4"
  }
 },
 "nbformat": 4,
 "nbformat_minor": 4
}
