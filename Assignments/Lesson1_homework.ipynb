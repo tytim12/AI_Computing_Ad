{
 "cells": [
  {
   "cell_type": "markdown",
   "metadata": {},
   "source": [
    "#### Thinking 1: 既然内容相似度计算简单，能频繁更新，为什么还需要协同过滤算法呢？  \n",
    "> 回答：\n",
    "> - **content based**的计算虽然相对简单，能够频繁更新，但是在推荐过程中无法为用户建立档案，而且很难找到有效的特征。同时，对于现实场景来讲，用户可能会有多种兴趣，单纯content based有可能无法跳出用于分析的内容的范围，很难解决EE问题\n",
    "> - **协同过滤**是针对用户的历史行为进行分析，不需要对浏览内容深入了解，泛用性应该会更高。同时，该算法可以一定程度上解决EE问题，在客户推荐上带来一些惊喜（explore）。但是协同过滤还是得考虑冷启动的问题，如果没有足够的item/user数据，则无法做到很好的协同过滤。\n",
    "> 综上，content based和系统过滤应该根据场景结合使用。 \n",
    "\n",
    "\n",
    "#### Thinking 2：定向广告和搜索广告的区别是什么，在解决方案上会有怎样的不同?  \n",
    "> 回答：\n",
    "> - **定向广告**是在用户浏览网页时，算法根据用户当前浏览网页的关键词进行匹配检索对应的广告，并推送给客户。定向广告既可以通过上下文的关键字检索，也可以通过为用户的行为属性打标签，推荐对应的广告。  \n",
    "> - **搜索广告**是通过分析用户搜索的需求，通过召回、粗排、精排、竞价、截断等步骤筛选出与用户搜索相关度高的top n个广告展示出来\n",
    "\n",
    "\n",
    "#### Thinking 3：如果给一个视频打标签，视频中有音乐作为背景音乐，采用了NLP方式对内容自动打标签，可能存在什么问题？\n",
    "> 回答：  \n",
    "> 针对视频内容，标签更关心的是视频的内容展现了山么。如果通过NLP的方式自动打标签，可能会被背景音乐干扰，同时，并不是所有视频都有有意义的语音，所以单纯用NLP进行视频标签的可行性不大，应结合cv的方式  \n",
    "\n"
   ]
  },
  {
   "cell_type": "markdown",
   "metadata": {},
   "source": [
    "### Action 1: 采用CART决策树对MNIST进行分类"
   ]
  },
  {
   "cell_type": "code",
   "execution_count": 43,
   "metadata": {},
   "outputs": [],
   "source": [
    "# -*- coding: utf-8 -*-\n",
    "# 使用 CART 决策树进行MNIST手写数字分类\n",
    "\n",
    "import numpy as np\n",
    "from sklearn import preprocessing\n",
    "from sklearn.tree import DecisionTreeClassifier\n",
    "from sklearn.datasets import load_digits\n",
    "from sklearn.metrics import accuracy_score\n",
    "from sklearn.model_selection import train_test_split\n",
    "import matplotlib.pyplot as plt"
   ]
  },
  {
   "cell_type": "code",
   "execution_count": 18,
   "metadata": {},
   "outputs": [],
   "source": [
    "digits = load_digits()\n",
    "data = digits.data"
   ]
  },
  {
   "cell_type": "code",
   "execution_count": 34,
   "metadata": {},
   "outputs": [
    {
     "data": {
      "text/plain": [
       "(sklearn.utils.Bunch, numpy.ndarray)"
      ]
     },
     "execution_count": 34,
     "metadata": {},
     "output_type": "execute_result"
    }
   ],
   "source": [
    "type(digits), type(data)"
   ]
  },
  {
   "cell_type": "code",
   "execution_count": 30,
   "metadata": {},
   "outputs": [
    {
     "name": "stdout",
     "output_type": "stream",
     "text": [
      "Label =  0\n"
     ]
    },
    {
     "data": {
      "image/png": "[encoded data removed]",
      "text/plain": [
       "<Figure size 432x288 with 1 Axes>"
      ]
     },
     "metadata": {
      "needs_background": "light"
     },
     "output_type": "display_data"
    }
   ],
   "source": [
    "plt.gray()\n",
    "print(\"Label = \", digits.target[0])\n",
    "plt.title(\"hand written digits\")\n",
    "plt.imshow(digits.images[0])\n",
    "plt.show()"
   ]
  },
  {
   "cell_type": "code",
   "execution_count": 39,
   "metadata": {},
   "outputs": [],
   "source": [
    "# 分割数据，将25%的数据作为测试集，其余作为训练集\n",
    "train_x, test_x, train_y, test_y = train_test_split(data, digits.target, test_size=0.25, random_state=33)\n",
    "\n",
    "# 采用Z-Score规范化\n",
    "ss = preprocessing.StandardScaler()\n",
    "train_ss_x = ss.fit_transform(train_x)\n",
    "test_ss_x = ss.transform(test_x)\n"
   ]
  },
  {
   "cell_type": "code",
   "execution_count": 134,
   "metadata": {},
   "outputs": [
    {
     "name": "stdout",
     "output_type": "stream",
     "text": [
      "准确率 = 0.8600\n"
     ]
    }
   ],
   "source": [
    "clf = DecisionTreeClassifier(criterion = 'gini', min_samples_split=4)\n",
    "clf.fit(train_ss_x, train_y)\n",
    "prediction = clf.predict(test_ss_x)\n",
    "print(\"准确率 = {:.4f}\".format(accuracy_score(test_y, prediction)))"
   ]
  },
  {
   "cell_type": "code",
   "execution_count": null,
   "metadata": {},
   "outputs": [],
   "source": []
  },
  {
   "cell_type": "markdown",
   "metadata": {},
   "source": [
    " </br>   \n",
    "  \n",
    "### Action 2： Avazu CTR广告点击率预测  \n",
    "\n",
    "\n",
    "**说明**：  \n",
    "> - 先用了lgbm做了一次fit，数据基本没怎么处理，得到的结果是0.41左右  \n",
    "> - 第二轮处理了数据，把unique值特别多的feature去掉了，发现效果下降到0.45左右  \n",
    "> - 第三轮做了标准化，和第一轮比变化不大  \n",
    "> - 最后一轮用了 lr 模型  \n"
   ]
  },
  {
   "cell_type": "code",
   "execution_count": 35,
   "metadata": {},
   "outputs": [],
   "source": [
    "import pandas as pd\n",
    "import numpy as np\n",
    "import os\n",
    "import lightgbm as lgb\n",
    "from sklearn.model_selection import train_test_split\n",
    "import warnings\n",
    "\n",
    "warnings.filterwarnings(\"ignore\")\n",
    "path = os.getcwd()"
   ]
  },
  {
   "cell_type": "code",
   "execution_count": 75,
   "metadata": {},
   "outputs": [],
   "source": [
    "data = pd.read_csv(path+\"//train_sample.csv\")"
   ]
  },
  {
   "cell_type": "code",
   "execution_count": 9,
   "metadata": {
    "collapsed": true,
    "jupyter": {
     "outputs_hidden": true
    }
   },
   "outputs": [
    {
     "data": {
      "text/plain": [
       "Index(['Unnamed: 0', 'id', 'click', 'hour', 'C1', 'banner_pos', 'site_id',\n",
       "       'site_domain', 'site_category', 'app_id', 'app_domain', 'app_category',\n",
       "       'device_id', 'device_ip', 'device_model', 'device_type',\n",
       "       'device_conn_type', 'C14', 'C15', 'C16', 'C17', 'C18', 'C19', 'C20',\n",
       "       'C21'],\n",
       "      dtype='object')"
      ]
     },
     "execution_count": 9,
     "metadata": {},
     "output_type": "execute_result"
    }
   ],
   "source": [
    "data.columns"
   ]
  },
  {
   "cell_type": "code",
   "execution_count": 3,
   "metadata": {},
   "outputs": [
    {
     "data": {
      "text/html": [
       "<div>\n",
       "<style scoped>\n",
       "    .dataframe tbody tr th:only-of-type {\n",
       "        vertical-align: middle;\n",
       "    }\n",
       "\n",
       "    .dataframe tbody tr th {\n",
       "        vertical-align: top;\n",
       "    }\n",
       "\n",
       "    .dataframe thead th {\n",
       "        text-align: right;\n",
       "    }\n",
       "</style>\n",
       "<table border=\"1\" class=\"dataframe\">\n",
       "  <thead>\n",
       "    <tr style=\"text-align: right;\">\n",
       "      <th></th>\n",
       "      <th>Unnamed: 0</th>\n",
       "      <th>id</th>\n",
       "      <th>click</th>\n",
       "      <th>hour</th>\n",
       "      <th>C1</th>\n",
       "      <th>banner_pos</th>\n",
       "      <th>device_type</th>\n",
       "      <th>device_conn_type</th>\n",
       "      <th>C14</th>\n",
       "      <th>C15</th>\n",
       "      <th>C16</th>\n",
       "      <th>C17</th>\n",
       "      <th>C18</th>\n",
       "      <th>C19</th>\n",
       "      <th>C20</th>\n",
       "      <th>C21</th>\n",
       "    </tr>\n",
       "  </thead>\n",
       "  <tbody>\n",
       "    <tr>\n",
       "      <th>count</th>\n",
       "      <td>10000.00000</td>\n",
       "      <td>1.000000e+04</td>\n",
       "      <td>10000.000000</td>\n",
       "      <td>10000.0</td>\n",
       "      <td>10000.000000</td>\n",
       "      <td>10000.000000</td>\n",
       "      <td>10000.000000</td>\n",
       "      <td>10000.000000</td>\n",
       "      <td>10000.000000</td>\n",
       "      <td>10000.000000</td>\n",
       "      <td>10000.000000</td>\n",
       "      <td>10000.000000</td>\n",
       "      <td>10000.000000</td>\n",
       "      <td>10000.000000</td>\n",
       "      <td>10000.000000</td>\n",
       "      <td>10000.000000</td>\n",
       "    </tr>\n",
       "    <tr>\n",
       "      <th>mean</th>\n",
       "      <td>4999.50000</td>\n",
       "      <td>9.795641e+18</td>\n",
       "      <td>0.170600</td>\n",
       "      <td>14102100.0</td>\n",
       "      <td>1005.059900</td>\n",
       "      <td>0.195900</td>\n",
       "      <td>1.068200</td>\n",
       "      <td>0.204500</td>\n",
       "      <td>17711.693800</td>\n",
       "      <td>318.478000</td>\n",
       "      <td>56.986400</td>\n",
       "      <td>1967.605900</td>\n",
       "      <td>0.789500</td>\n",
       "      <td>125.622400</td>\n",
       "      <td>37746.299500</td>\n",
       "      <td>88.260300</td>\n",
       "    </tr>\n",
       "    <tr>\n",
       "      <th>std</th>\n",
       "      <td>2886.89568</td>\n",
       "      <td>2.853038e+18</td>\n",
       "      <td>0.376178</td>\n",
       "      <td>0.0</td>\n",
       "      <td>1.103193</td>\n",
       "      <td>0.404895</td>\n",
       "      <td>0.601984</td>\n",
       "      <td>0.646469</td>\n",
       "      <td>3139.296362</td>\n",
       "      <td>11.492429</td>\n",
       "      <td>37.425508</td>\n",
       "      <td>385.160315</td>\n",
       "      <td>1.228878</td>\n",
       "      <td>234.039047</td>\n",
       "      <td>48516.401341</td>\n",
       "      <td>45.153569</td>\n",
       "    </tr>\n",
       "    <tr>\n",
       "      <th>min</th>\n",
       "      <td>0.00000</td>\n",
       "      <td>1.004777e+16</td>\n",
       "      <td>0.000000</td>\n",
       "      <td>14102100.0</td>\n",
       "      <td>1001.000000</td>\n",
       "      <td>0.000000</td>\n",
       "      <td>0.000000</td>\n",
       "      <td>0.000000</td>\n",
       "      <td>375.000000</td>\n",
       "      <td>216.000000</td>\n",
       "      <td>36.000000</td>\n",
       "      <td>112.000000</td>\n",
       "      <td>0.000000</td>\n",
       "      <td>35.000000</td>\n",
       "      <td>-1.000000</td>\n",
       "      <td>13.000000</td>\n",
       "    </tr>\n",
       "    <tr>\n",
       "      <th>25%</th>\n",
       "      <td>2499.75000</td>\n",
       "      <td>1.024754e+19</td>\n",
       "      <td>0.000000</td>\n",
       "      <td>14102100.0</td>\n",
       "      <td>1005.000000</td>\n",
       "      <td>0.000000</td>\n",
       "      <td>1.000000</td>\n",
       "      <td>0.000000</td>\n",
       "      <td>15704.000000</td>\n",
       "      <td>320.000000</td>\n",
       "      <td>50.000000</td>\n",
       "      <td>1722.000000</td>\n",
       "      <td>0.000000</td>\n",
       "      <td>35.000000</td>\n",
       "      <td>-1.000000</td>\n",
       "      <td>61.000000</td>\n",
       "    </tr>\n",
       "    <tr>\n",
       "      <th>50%</th>\n",
       "      <td>4999.50000</td>\n",
       "      <td>1.063018e+19</td>\n",
       "      <td>0.000000</td>\n",
       "      <td>14102100.0</td>\n",
       "      <td>1005.000000</td>\n",
       "      <td>0.000000</td>\n",
       "      <td>1.000000</td>\n",
       "      <td>0.000000</td>\n",
       "      <td>17654.000000</td>\n",
       "      <td>320.000000</td>\n",
       "      <td>50.000000</td>\n",
       "      <td>1993.000000</td>\n",
       "      <td>0.000000</td>\n",
       "      <td>35.000000</td>\n",
       "      <td>-1.000000</td>\n",
       "      <td>79.000000</td>\n",
       "    </tr>\n",
       "    <tr>\n",
       "      <th>75%</th>\n",
       "      <td>7499.25000</td>\n",
       "      <td>1.100749e+19</td>\n",
       "      <td>0.000000</td>\n",
       "      <td>14102100.0</td>\n",
       "      <td>1005.000000</td>\n",
       "      <td>0.000000</td>\n",
       "      <td>1.000000</td>\n",
       "      <td>0.000000</td>\n",
       "      <td>20362.000000</td>\n",
       "      <td>320.000000</td>\n",
       "      <td>50.000000</td>\n",
       "      <td>2307.000000</td>\n",
       "      <td>2.000000</td>\n",
       "      <td>39.000000</td>\n",
       "      <td>100083.000000</td>\n",
       "      <td>117.000000</td>\n",
       "    </tr>\n",
       "    <tr>\n",
       "      <th>max</th>\n",
       "      <td>9999.00000</td>\n",
       "      <td>1.138513e+19</td>\n",
       "      <td>1.000000</td>\n",
       "      <td>14102100.0</td>\n",
       "      <td>1010.000000</td>\n",
       "      <td>5.000000</td>\n",
       "      <td>5.000000</td>\n",
       "      <td>5.000000</td>\n",
       "      <td>21705.000000</td>\n",
       "      <td>728.000000</td>\n",
       "      <td>480.000000</td>\n",
       "      <td>2497.000000</td>\n",
       "      <td>3.000000</td>\n",
       "      <td>1835.000000</td>\n",
       "      <td>100248.000000</td>\n",
       "      <td>157.000000</td>\n",
       "    </tr>\n",
       "  </tbody>\n",
       "</table>\n",
       "</div>"
      ],
      "text/plain": [
       "        Unnamed: 0            id         click        hour            C1  \\\n",
       "count  10000.00000  1.000000e+04  10000.000000     10000.0  10000.000000   \n",
       "mean    4999.50000  9.795641e+18      0.170600  14102100.0   1005.059900   \n",
       "std     2886.89568  2.853038e+18      0.376178         0.0      1.103193   \n",
       "min        0.00000  1.004777e+16      0.000000  14102100.0   1001.000000   \n",
       "25%     2499.75000  1.024754e+19      0.000000  14102100.0   1005.000000   \n",
       "50%     4999.50000  1.063018e+19      0.000000  14102100.0   1005.000000   \n",
       "75%     7499.25000  1.100749e+19      0.000000  14102100.0   1005.000000   \n",
       "max     9999.00000  1.138513e+19      1.000000  14102100.0   1010.000000   \n",
       "\n",
       "         banner_pos   device_type  device_conn_type           C14  \\\n",
       "count  10000.000000  10000.000000      10000.000000  10000.000000   \n",
       "mean       0.195900      1.068200          0.204500  17711.693800   \n",
       "std        0.404895      0.601984          0.646469   3139.296362   \n",
       "min        0.000000      0.000000          0.000000    375.000000   \n",
       "25%        0.000000      1.000000          0.000000  15704.000000   \n",
       "50%        0.000000      1.000000          0.000000  17654.000000   \n",
       "75%        0.000000      1.000000          0.000000  20362.000000   \n",
       "max        5.000000      5.000000          5.000000  21705.000000   \n",
       "\n",
       "                C15           C16           C17           C18           C19  \\\n",
       "count  10000.000000  10000.000000  10000.000000  10000.000000  10000.000000   \n",
       "mean     318.478000     56.986400   1967.605900      0.789500    125.622400   \n",
       "std       11.492429     37.425508    385.160315      1.228878    234.039047   \n",
       "min      216.000000     36.000000    112.000000      0.000000     35.000000   \n",
       "25%      320.000000     50.000000   1722.000000      0.000000     35.000000   \n",
       "50%      320.000000     50.000000   1993.000000      0.000000     35.000000   \n",
       "75%      320.000000     50.000000   2307.000000      2.000000     39.000000   \n",
       "max      728.000000    480.000000   2497.000000      3.000000   1835.000000   \n",
       "\n",
       "                 C20           C21  \n",
       "count   10000.000000  10000.000000  \n",
       "mean    37746.299500     88.260300  \n",
       "std     48516.401341     45.153569  \n",
       "min        -1.000000     13.000000  \n",
       "25%        -1.000000     61.000000  \n",
       "50%        -1.000000     79.000000  \n",
       "75%    100083.000000    117.000000  \n",
       "max    100248.000000    157.000000  "
      ]
     },
     "execution_count": 3,
     "metadata": {},
     "output_type": "execute_result"
    }
   ],
   "source": [
    "data.describe()"
   ]
  },
  {
   "cell_type": "code",
   "execution_count": 76,
   "metadata": {},
   "outputs": [
    {
     "data": {
      "text/plain": [
       "{'Unnamed: 0': 10000,\n",
       " 'id': 10000,\n",
       " 'click': 2,\n",
       " 'hour': 1,\n",
       " 'C1': 6,\n",
       " 'banner_pos': 4,\n",
       " 'site_id': 381,\n",
       " 'site_domain': 317,\n",
       " 'site_category': 14,\n",
       " 'app_id': 313,\n",
       " 'app_domain': 31,\n",
       " 'app_category': 14,\n",
       " 'device_id': 1075,\n",
       " 'device_ip': 7302,\n",
       " 'device_model': 1168,\n",
       " 'device_type': 4,\n",
       " 'device_conn_type': 4,\n",
       " 'C14': 271,\n",
       " 'C15': 4,\n",
       " 'C16': 5,\n",
       " 'C17': 111,\n",
       " 'C18': 4,\n",
       " 'C19': 32,\n",
       " 'C20': 108,\n",
       " 'C21': 29}"
      ]
     },
     "execution_count": 76,
     "metadata": {},
     "output_type": "execute_result"
    }
   ],
   "source": [
    "# 查看每个字段的唯一值数量\n",
    "columns = data.columns\n",
    "dict(zip(columns, [data[x].unique().size for x in columns]))"
   ]
  },
  {
   "cell_type": "code",
   "execution_count": 77,
   "metadata": {},
   "outputs": [],
   "source": [
    "# unname会导致fit的时候报错，id无用，所以都drop掉\n",
    "data = data.drop(['Unnamed: 0', 'id'], axis=1)"
   ]
  },
  {
   "cell_type": "code",
   "execution_count": 11,
   "metadata": {},
   "outputs": [
    {
     "name": "stdout",
     "output_type": "stream",
     "text": [
      "[0 0 0 ... 0 1 0]\n"
     ]
    }
   ],
   "source": [
    "print(pd.factorize(train.app_category)[0])"
   ]
  },
  {
   "cell_type": "code",
   "execution_count": 78,
   "metadata": {},
   "outputs": [],
   "source": [
    "# 特征工程\n",
    "for fea in data.drop('click', axis=1).columns:\n",
    "    data[fea] = pd.factorize(data[fea])[0]"
   ]
  },
  {
   "cell_type": "code",
   "execution_count": 79,
   "metadata": {},
   "outputs": [],
   "source": [
    "# 从训练集获取训练集和验证集\n",
    "train, test = train_test_split(data, test_size = 0.2)"
   ]
  },
  {
   "cell_type": "code",
   "execution_count": 80,
   "metadata": {},
   "outputs": [],
   "source": [
    "# 构建lightgbm模型\n",
    "clf = lgb.LGBMClassifier(boosting_type='gbdt', is_unbalanced=False, slient=False, learning_rate=0.01)\n",
    "cal = list(data.drop('click', axis=1).columns)\n",
    "\n",
    "# fit and predict\n",
    "clf.fit(train.drop('click', axis=1), train['click'], categorical_feature = cal)\n",
    "predict = clf.predict_proba(test.drop('click', axis=1))[:, 1]"
   ]
  },
  {
   "cell_type": "code",
   "execution_count": 81,
   "metadata": {},
   "outputs": [
    {
     "data": {
      "text/plain": [
       "0.4150523066137552"
      ]
     },
     "execution_count": 81,
     "metadata": {},
     "output_type": "execute_result"
    }
   ],
   "source": [
    "# 损失函数\n",
    "def celoss(target, predict):\n",
    "    target = np.array(target)\n",
    "    predict = np.array(predict)\n",
    "    return -(target * np.log(predict) + (1 - target) * np.log(1 - predict)).mean()\n",
    "\n",
    "celoss(test['click'], predict)"
   ]
  },
  {
   "cell_type": "code",
   "execution_count": 84,
   "metadata": {},
   "outputs": [
    {
     "data": {
      "text/plain": [
       "7.391436505456993"
      ]
     },
     "execution_count": 84,
     "metadata": {},
     "output_type": "execute_result"
    }
   ],
   "source": [
    "# 使用 lr 模型\n",
    "from sklearn.linear_model import SGDClassifier\n",
    "from sklearn.metrics import log_loss\n",
    "\n",
    "lr = SGDClassifier(loss='log') \n",
    "lr.partial_fit(train.drop('click', axis=1), train['click'], classes = [0,1])\n",
    "lr_predict= lr.predict_proba(test.drop('click', axis=1))[:,1]\n",
    "score = log_loss(test['click'], lr_predict)\n",
    "score\n"
   ]
  }
 ],
 "metadata": {
  "kernelspec": {
   "display_name": "Python 3",
   "language": "python",
   "name": "python3"
  },
  "language_info": {
   "codemirror_mode": {
    "name": "ipython",
    "version": 3
   },
   "file_extension": ".py",
   "mimetype": "text/x-python",
   "name": "python",
   "nbconvert_exporter": "python",
   "pygments_lexer": "ipython3",
   "version": "3.7.3"
  }
 },
 "nbformat": 4,
 "nbformat_minor": 4
}
