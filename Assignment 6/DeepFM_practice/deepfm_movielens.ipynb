{
 "cells": [
  {
   "cell_type": "code",
   "execution_count": 2,
   "metadata": {},
   "outputs": [
    {
     "data": {
      "text/html": [
       "<div>\n",
       "<style scoped>\n",
       "    .dataframe tbody tr th:only-of-type {\n",
       "        vertical-align: middle;\n",
       "    }\n",
       "\n",
       "    .dataframe tbody tr th {\n",
       "        vertical-align: top;\n",
       "    }\n",
       "\n",
       "    .dataframe thead th {\n",
       "        text-align: right;\n",
       "    }\n",
       "</style>\n",
       "<table border=\"1\" class=\"dataframe\">\n",
       "  <thead>\n",
       "    <tr style=\"text-align: right;\">\n",
       "      <th></th>\n",
       "      <th>user_id</th>\n",
       "      <th>movie_id</th>\n",
       "      <th>rating</th>\n",
       "      <th>timestamp</th>\n",
       "      <th>title</th>\n",
       "      <th>genres</th>\n",
       "      <th>gender</th>\n",
       "      <th>age</th>\n",
       "      <th>occupation</th>\n",
       "      <th>zip</th>\n",
       "    </tr>\n",
       "  </thead>\n",
       "  <tbody>\n",
       "    <tr>\n",
       "      <td>0</td>\n",
       "      <td>3299</td>\n",
       "      <td>235</td>\n",
       "      <td>4</td>\n",
       "      <td>968035345</td>\n",
       "      <td>Ed Wood (1994)</td>\n",
       "      <td>Comedy|Drama</td>\n",
       "      <td>F</td>\n",
       "      <td>25</td>\n",
       "      <td>4</td>\n",
       "      <td>19119</td>\n",
       "    </tr>\n",
       "    <tr>\n",
       "      <td>1</td>\n",
       "      <td>3630</td>\n",
       "      <td>3256</td>\n",
       "      <td>3</td>\n",
       "      <td>966536874</td>\n",
       "      <td>Patriot Games (1992)</td>\n",
       "      <td>Action|Thriller</td>\n",
       "      <td>M</td>\n",
       "      <td>18</td>\n",
       "      <td>4</td>\n",
       "      <td>77005</td>\n",
       "    </tr>\n",
       "    <tr>\n",
       "      <td>2</td>\n",
       "      <td>517</td>\n",
       "      <td>105</td>\n",
       "      <td>4</td>\n",
       "      <td>976203603</td>\n",
       "      <td>Bridges of Madison County, The (1995)</td>\n",
       "      <td>Drama|Romance</td>\n",
       "      <td>F</td>\n",
       "      <td>25</td>\n",
       "      <td>14</td>\n",
       "      <td>55408</td>\n",
       "    </tr>\n",
       "    <tr>\n",
       "      <td>3</td>\n",
       "      <td>785</td>\n",
       "      <td>2115</td>\n",
       "      <td>3</td>\n",
       "      <td>975430389</td>\n",
       "      <td>Indiana Jones and the Temple of Doom (1984)</td>\n",
       "      <td>Action|Adventure</td>\n",
       "      <td>M</td>\n",
       "      <td>18</td>\n",
       "      <td>19</td>\n",
       "      <td>29307</td>\n",
       "    </tr>\n",
       "    <tr>\n",
       "      <td>4</td>\n",
       "      <td>5848</td>\n",
       "      <td>909</td>\n",
       "      <td>5</td>\n",
       "      <td>957782527</td>\n",
       "      <td>Apartment, The (1960)</td>\n",
       "      <td>Comedy|Drama</td>\n",
       "      <td>M</td>\n",
       "      <td>50</td>\n",
       "      <td>20</td>\n",
       "      <td>20009</td>\n",
       "    </tr>\n",
       "  </tbody>\n",
       "</table>\n",
       "</div>"
      ],
      "text/plain": [
       "   user_id  movie_id  rating  timestamp  \\\n",
       "0     3299       235       4  968035345   \n",
       "1     3630      3256       3  966536874   \n",
       "2      517       105       4  976203603   \n",
       "3      785      2115       3  975430389   \n",
       "4     5848       909       5  957782527   \n",
       "\n",
       "                                         title            genres gender  age  \\\n",
       "0                               Ed Wood (1994)      Comedy|Drama      F   25   \n",
       "1                         Patriot Games (1992)   Action|Thriller      M   18   \n",
       "2        Bridges of Madison County, The (1995)     Drama|Romance      F   25   \n",
       "3  Indiana Jones and the Temple of Doom (1984)  Action|Adventure      M   18   \n",
       "4                        Apartment, The (1960)      Comedy|Drama      M   50   \n",
       "\n",
       "   occupation    zip  \n",
       "0           4  19119  \n",
       "1           4  77005  \n",
       "2          14  55408  \n",
       "3          19  29307  \n",
       "4          20  20009  "
      ]
     },
     "execution_count": 2,
     "metadata": {},
     "output_type": "execute_result"
    }
   ],
   "source": [
    "import pandas as pd\n",
    "from sklearn.metrics import mean_squared_error\n",
    "from sklearn.model_selection import train_test_split\n",
    "from sklearn.preprocessing import LabelEncoder\n",
    "from deepctr.models import DeepFM\n",
    "from deepctr.inputs import SparseFeat,get_feature_names\n",
    "\n",
    "#数据加载，设置稀疏特征和测试对象\n",
    "data = pd.read_csv(\"movielens_sample.txt\")\n",
    "sparse_features = [\"movie_id\", \"user_id\", \"gender\", \"age\", \"occupation\", \"zip\"]\n",
    "target = ['rating']\n",
    "\n",
    "data.head()"
   ]
  },
  {
   "cell_type": "code",
   "execution_count": 3,
   "metadata": {},
   "outputs": [],
   "source": [
    "# 对特征标签进行编码\n",
    "for feature in sparse_features:\n",
    "    lbe = LabelEncoder()\n",
    "    data[feature] = lbe.fit_transform(data[feature])\n",
    "    \n",
    "# 计算每个特征中的 不同特征值的个数\n",
    "fixlen_feature_columns = [SparseFeat(feature, data[feature].nunique()) for feature in sparse_features]\n",
    "\n",
    "# DNN 和 FM 共享输入 fixlen_feature_columns\n",
    "linear_feature_columns = fixlen_feature_columns\n",
    "dnn_feature_columns = fixlen_feature_columns\n",
    "feature_names = get_feature_names(linear_feature_columns + dnn_feature_columns)"
   ]
  },
  {
   "cell_type": "code",
   "execution_count": 4,
   "metadata": {},
   "outputs": [
    {
     "data": {
      "text/plain": [
       "[SparseFeat(name='movie_id', vocabulary_size=187, embedding_dim=4, use_hash=False, dtype='int32', embedding_name='movie_id', group_name='default_group'),\n",
       " SparseFeat(name='user_id', vocabulary_size=193, embedding_dim=4, use_hash=False, dtype='int32', embedding_name='user_id', group_name='default_group'),\n",
       " SparseFeat(name='gender', vocabulary_size=2, embedding_dim=4, use_hash=False, dtype='int32', embedding_name='gender', group_name='default_group'),\n",
       " SparseFeat(name='age', vocabulary_size=7, embedding_dim=4, use_hash=False, dtype='int32', embedding_name='age', group_name='default_group'),\n",
       " SparseFeat(name='occupation', vocabulary_size=20, embedding_dim=4, use_hash=False, dtype='int32', embedding_name='occupation', group_name='default_group'),\n",
       " SparseFeat(name='zip', vocabulary_size=188, embedding_dim=4, use_hash=False, dtype='int32', embedding_name='zip', group_name='default_group')]"
      ]
     },
     "execution_count": 4,
     "metadata": {},
     "output_type": "execute_result"
    }
   ],
   "source": [
    "fixlen_feature_columns"
   ]
  },
  {
   "cell_type": "code",
   "execution_count": 7,
   "metadata": {},
   "outputs": [
    {
     "data": {
      "text/plain": [
       "['movie_id', 'user_id', 'gender', 'age', 'occupation', 'zip']"
      ]
     },
     "execution_count": 7,
     "metadata": {},
     "output_type": "execute_result"
    }
   ],
   "source": [
    "feature_names"
   ]
  },
  {
   "cell_type": "code",
   "execution_count": 8,
   "metadata": {},
   "outputs": [],
   "source": [
    "# 将数据集切分成训练集和测试集\n",
    "train, test = train_test_split(data, test_size=0.2)\n",
    "\n",
    "# 训练集和测试集的输入格式为 dict\n",
    "train_model_input = {name:train[name].values for name in feature_names}\n",
    "test_model_input = {name:test[name].values for name in feature_names}"
   ]
  },
  {
   "cell_type": "code",
   "execution_count": 10,
   "metadata": {},
   "outputs": [
    {
     "data": {
      "text/plain": [
       "{'movie_id': array([ 18,  74,  97,   6, 156, 173,  76, 124, 170, 116,  29,  34, 163,\n",
       "         85,  70, 168,  65, 174,  91,  72, 111, 123, 169, 103, 130, 115,\n",
       "        162, 112,  67, 177, 166,  41,  59, 144,  50,  19, 136, 113,  92,\n",
       "        173], dtype=int64),\n",
       " 'user_id': array([158, 101, 173,  12,  24,  10,  31, 159, 178, 144, 108, 157, 141,\n",
       "         84,  72, 192,  53,  68,  77,  86, 160,  41, 123,  18, 146, 128,\n",
       "         44, 182,  69, 115, 136,  34, 169,  64, 173,  27,  66, 188, 162,\n",
       "          7], dtype=int64),\n",
       " 'gender': array([1, 0, 1, 0, 1, 1, 0, 1, 0, 1, 0, 1, 1, 0, 1, 1, 1, 1, 0, 1, 1, 1,\n",
       "        1, 1, 1, 1, 1, 0, 1, 1, 0, 0, 1, 1, 1, 0, 1, 1, 0, 1]),\n",
       " 'age': array([3, 2, 1, 2, 5, 3, 4, 3, 2, 2, 1, 1, 5, 0, 3, 2, 5, 5, 1, 5, 5, 2,\n",
       "        1, 2, 6, 3, 3, 2, 4, 1, 2, 2, 1, 2, 1, 5, 5, 2, 3, 2], dtype=int64),\n",
       " 'occupation': array([16,  3, 11, 13,  1,  7,  8,  0,  6,  4,  4,  4, 11,  9, 16,  6, 15,\n",
       "        10,  4,  1, 13, 18,  4,  0,  1,  6, 14, 10, 13,  4,  0,  3,  9,  0,\n",
       "        11,  0, 15,  7,  4,  2], dtype=int64),\n",
       " 'zip': array([129,  92, 134,  99,  45,  18, 169, 155,   8,  79, 130, 109,  63,\n",
       "         82, 157,  26, 184, 144,  31,  69,  98, 156, 118,  67,  76,  91,\n",
       "         44,   6, 165, 122,  42, 124, 110,  19, 134, 182, 143,  11, 174,\n",
       "        140])}"
      ]
     },
     "execution_count": 10,
     "metadata": {},
     "output_type": "execute_result"
    }
   ],
   "source": [
    "test_model_input"
   ]
  },
  {
   "cell_type": "code",
   "execution_count": 11,
   "metadata": {},
   "outputs": [
    {
     "name": "stdout",
     "output_type": "stream",
     "text": [
      "WARNING:tensorflow:From C:\\ProgramData\\Anaconda3\\lib\\site-packages\\tensorflow\\python\\keras\\initializers.py:143: calling RandomNormal.__init__ (from tensorflow.python.ops.init_ops) with dtype is deprecated and will be removed in a future version.\n",
      "Instructions for updating:\n",
      "Call initializer instance with the dtype argument instead of passing it to the constructor\n",
      "WARNING:tensorflow:From C:\\ProgramData\\Anaconda3\\lib\\site-packages\\tensorflow\\python\\autograph\\impl\\api.py:253: calling reduce_sum_v1 (from tensorflow.python.ops.math_ops) with keep_dims is deprecated and will be removed in a future version.\n",
      "Instructions for updating:\n",
      "keep_dims is deprecated, use keepdims instead\n",
      "WARNING:tensorflow:From C:\\ProgramData\\Anaconda3\\lib\\site-packages\\tensorflow\\python\\ops\\init_ops.py:1288: calling VarianceScaling.__init__ (from tensorflow.python.ops.init_ops) with dtype is deprecated and will be removed in a future version.\n",
      "Instructions for updating:\n",
      "Call initializer instance with the dtype argument instead of passing it to the constructor\n",
      "Train on 128 samples, validate on 32 samples\n",
      "Epoch 1/10\n",
      "128/128 [==============================] - 2s 13ms/sample - loss: 13.9769 - mean_squared_error: 13.9769 - val_loss: 15.2892 - val_mean_squared_error: 15.2892\n",
      "Epoch 2/10\n",
      "128/128 [==============================] - 0s 297us/sample - loss: 13.8455 - mean_squared_error: 13.8455 - val_loss: 15.1644 - val_mean_squared_error: 15.1644\n",
      "Epoch 3/10\n",
      "128/128 [==============================] - 0s 195us/sample - loss: 13.7035 - mean_squared_error: 13.7035 - val_loss: 15.0310 - val_mean_squared_error: 15.0310\n",
      "Epoch 4/10\n",
      "128/128 [==============================] - 0s 211us/sample - loss: 13.5522 - mean_squared_error: 13.5522 - val_loss: 14.8904 - val_mean_squared_error: 14.8904\n",
      "Epoch 5/10\n",
      "128/128 [==============================] - 0s 141us/sample - loss: 13.3918 - mean_squared_error: 13.3918 - val_loss: 14.7413 - val_mean_squared_error: 14.7413\n",
      "Epoch 6/10\n",
      "128/128 [==============================] - 0s 195us/sample - loss: 13.2207 - mean_squared_error: 13.2207 - val_loss: 14.5814 - val_mean_squared_error: 14.5814\n",
      "Epoch 7/10\n",
      "128/128 [==============================] - 0s 141us/sample - loss: 13.0390 - mean_squared_error: 13.0390 - val_loss: 14.4114 - val_mean_squared_error: 14.4114\n",
      "Epoch 8/10\n",
      "128/128 [==============================] - 0s 250us/sample - loss: 12.8463 - mean_squared_error: 12.8463 - val_loss: 14.2311 - val_mean_squared_error: 14.2311\n",
      "Epoch 9/10\n",
      "128/128 [==============================] - 0s 234us/sample - loss: 12.6419 - mean_squared_error: 12.6419 - val_loss: 14.0399 - val_mean_squared_error: 14.0399\n",
      "Epoch 10/10\n",
      "128/128 [==============================] - 0s 273us/sample - loss: 12.4250 - mean_squared_error: 12.4250 - val_loss: 13.8373 - val_mean_squared_error: 13.8373\n",
      "test RMSE 3.4940663989111598\n"
     ]
    }
   ],
   "source": [
    "# 使用DeepFM进行训练\n",
    "# 使用 adam 优化器，损失函数是mse，评分矩阵为mse\n",
    "# 模型参数：每次喂 256 batch_size的数据，跑 10个 epoch\n",
    "model = DeepFM(linear_feature_columns, dnn_feature_columns, task='regression')\n",
    "model.compile(\"adam\", \"mse\", metrics=['mse'], )\n",
    "history = model.fit(train_model_input, train[target].values, batch_size=256, epochs=10, verbose=True, validation_split=0.2, )\n",
    "\n",
    "\n",
    "# 使用DeepFM进行预测\n",
    "pred_ans = model.predict(test_model_input, batch_size=256)\n",
    "# 输出RMSE或MSE\n",
    "mse = round(mean_squared_error(test[target].values, pred_ans), 4)\n",
    "\n",
    "# 打印整体均方根差\n",
    "rmse = mse ** 0.5\n",
    "print(\"test RMSE\", rmse)"
   ]
  },
  {
   "cell_type": "code",
   "execution_count": 14,
   "metadata": {},
   "outputs": [
    {
     "name": "stdout",
     "output_type": "stream",
     "text": [
      "预测结果：\n",
      " [[0.21043625]\n",
      " [0.20929465]\n",
      " [0.2101976 ]\n",
      " [0.22802433]\n",
      " [0.20880629]\n",
      " [0.20918243]\n",
      " [0.2081047 ]\n",
      " [0.21028034]\n",
      " [0.20920505]\n",
      " [0.21002479]\n",
      " [0.21047027]\n",
      " [0.22811396]\n",
      " [0.20875746]\n",
      " [0.20844439]\n",
      " [0.21092242]\n",
      " [0.20969236]\n",
      " [0.20879379]\n",
      " [0.20826463]\n",
      " [0.21049587]\n",
      " [0.22594738]\n",
      " [0.20832177]\n",
      " [0.22636545]\n",
      " [0.21063592]\n",
      " [0.20934561]\n",
      " [0.20987874]\n",
      " [0.21057247]\n",
      " [0.24240315]\n",
      " [0.22583348]\n",
      " [0.20955668]\n",
      " [0.21053374]\n",
      " [0.2094241 ]\n",
      " [0.2097049 ]\n",
      " [0.2098247 ]\n",
      " [0.20982923]\n",
      " [0.21045828]\n",
      " [0.20865898]\n",
      " [0.20876163]\n",
      " [0.20845261]\n",
      " [0.21056964]\n",
      " [0.21016021]]\n"
     ]
    }
   ],
   "source": [
    "print(\"预测结果：\\n\", pred_ans)"
   ]
  }
 ],
 "metadata": {
  "kernelspec": {
   "display_name": "Python 3",
   "language": "python",
   "name": "python3"
  },
  "language_info": {
   "codemirror_mode": {
    "name": "ipython",
    "version": 3
   },
   "file_extension": ".py",
   "mimetype": "text/x-python",
   "name": "python",
   "nbconvert_exporter": "python",
   "pygments_lexer": "ipython3",
   "version": "3.7.4"
  }
 },
 "nbformat": 4,
 "nbformat_minor": 4
}
