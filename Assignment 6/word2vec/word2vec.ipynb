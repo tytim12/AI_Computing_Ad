{
 "cells": [
  {
   "cell_type": "code",
   "execution_count": 8,
   "metadata": {},
   "outputs": [],
   "source": [
    "import jieba\n",
    "import os\n",
    "from utils import files_processing\n",
    "\n",
    "file = './three_kingdoms.txt'\n",
    "stop_words = [':', \".\", \"的\", \"。\", \"，\", '此', '某']\n",
    "\n",
    "with open(file, 'rb') as f:\n",
    "    doc = f.read()\n",
    "    doc_cut = jieba.cut(doc)\n",
    "    segment = []\n",
    "    for word in doc_cut:\n",
    "        if word not in stop_words:\n",
    "            segment.append(word)\n",
    "    result = ' '.join(segment)\n",
    "    result = result.encode('utf-8')\n",
    "    with open('./three_kingdoms/segment/segment_output.txt', 'wb') as out:\n",
    "        out.write(result)\n"
   ]
  },
  {
   "cell_type": "code",
   "execution_count": 9,
   "metadata": {},
   "outputs": [],
   "source": [
    "# 先运行 word_seg进行中文分词，然后再进行word_similarity计算\n",
    "# 将Word转换成Vec，然后计算相似度 \n",
    "from gensim.models import word2vec\n",
    "import multiprocessing\n",
    "\n",
    "segment_folder = './three_kingdoms/segment'\n",
    "sentences = word2vec.PathLineSentences(segment_folder)\n",
    "\n",
    "model = word2vec.Word2Vec(sentences, size=100, window=3, min_count=1)"
   ]
  },
  {
   "cell_type": "code",
   "execution_count": 10,
   "metadata": {},
   "outputs": [],
   "source": [
    "# 全量计算和曹操的词汇\n",
    "result = {}\n",
    "for word in model.wv.vocab:\n",
    "    if word not in result:\n",
    "        result[word] = model.wv.similarity('曹操', word)\n",
    "\n",
    "result = sorted(result.items(), key=lambda x: x[1], reverse=True)"
   ]
  },
  {
   "cell_type": "code",
   "execution_count": 15,
   "metadata": {},
   "outputs": [
    {
     "name": "stdout",
     "output_type": "stream",
     "text": [
      "近臣 与 曹操的相似度为0.9980000257492065, 排名第0\n",
      "妾 与 曹操的相似度为0.996999979019165, 排名第1\n",
      "操贼 与 曹操的相似度为0.996999979019165, 排名第2\n",
      "既定 与 曹操的相似度为0.996999979019165, 排名第3\n",
      "土人 与 曹操的相似度为0.996999979019165, 排名第4\n",
      "说 与 曹操的相似度为0.996999979019165, 排名第5\n",
      "群臣 与 曹操的相似度为0.996999979019165, 排名第6\n",
      "进 与 曹操的相似度为0.996999979019165, 排名第7\n",
      "老人 与 曹操的相似度为0.996999979019165, 排名第8\n",
      "公等 与 曹操的相似度为0.996999979019165, 排名第9\n",
      "大王 与 曹操的相似度为0.9959999918937683, 排名第10\n",
      "艾 与 曹操的相似度为0.9959999918937683, 排名第11\n"
     ]
    }
   ],
   "source": [
    "# 这里应该可以通过 nr tag 筛选看起来像人名的再筛选，碍于时间关系没做了...\n",
    "for i, value in enumerate(result):\n",
    "    if i == 0: continue\n",
    "    elif i<=12: \n",
    "        print(f'{value[0]} 与 曹操的相似度为{round(value[1], 3)}, 排名第{i-1}')\n",
    "    else: break"
   ]
  },
  {
   "cell_type": "code",
   "execution_count": 12,
   "metadata": {},
   "outputs": [
    {
     "data": {
      "text/plain": [
       "0.99244446"
      ]
     },
     "execution_count": 12,
     "metadata": {},
     "output_type": "execute_result"
    }
   ],
   "source": [
    "model.wv.similarity('曹操','刘备')"
   ]
  },
  {
   "cell_type": "code",
   "execution_count": 13,
   "metadata": {},
   "outputs": [
    {
     "data": {
      "text/plain": [
       "[('密谓', 0.9975082278251648),\n",
       " ('书略', 0.9971995949745178),\n",
       " ('彧', 0.9971398115158081),\n",
       " ('谏', 0.9966503977775574),\n",
       " ('今', 0.9960082769393921),\n",
       " ('大叫', 0.995145857334137),\n",
       " ('朕', 0.9949318170547485),\n",
       " ('臣', 0.9947359561920166),\n",
       " ('大呼', 0.9944672584533691),\n",
       " ('奏', 0.9943608045578003)]"
      ]
     },
     "execution_count": 13,
     "metadata": {},
     "output_type": "execute_result"
    }
   ],
   "source": [
    "# 曹操+刘备-张飞\n",
    "model.wv.most_similar(positive=['曹操', '刘备'], negative=['张飞'])"
   ]
  }
 ],
 "metadata": {
  "kernelspec": {
   "display_name": "Python 3",
   "language": "python",
   "name": "python3"
  },
  "language_info": {
   "codemirror_mode": {
    "name": "ipython",
    "version": 3
   },
   "file_extension": ".py",
   "mimetype": "text/x-python",
   "name": "python",
   "nbconvert_exporter": "python",
   "pygments_lexer": "ipython3",
   "version": "3.7.4"
  }
 },
 "nbformat": 4,
 "nbformat_minor": 4
}
